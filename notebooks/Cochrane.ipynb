{
 "cells": [
  {
   "cell_type": "code",
   "execution_count": 1,
   "id": "880ed483-5df3-407b-819f-57d06cfcae66",
   "metadata": {},
   "outputs": [],
   "source": [
    "#NOTE: Create a .env file and put gemini keys in there as `GEMINI_API_KEY=...`\n",
    "%load_ext dotenv\n",
    "%dotenv"
   ]
  },
  {
   "cell_type": "code",
   "execution_count": 2,
   "id": "e3df9187-61b9-442c-b3b5-cb1f75a3b2f7",
   "metadata": {},
   "outputs": [],
   "source": [
    "import os\n",
    "\n",
    "parent_dir = os.path.dirname(os.getcwd())\n",
    "data_dir = f'{parent_dir}/data'\n",
    "results_dir = f'{parent_dir}/gemini_output/markdown_cochrane'"
   ]
  },
  {
   "cell_type": "code",
   "execution_count": 3,
   "id": "c9f4f1ba-b967-4fae-b774-81d316d1fd73",
   "metadata": {},
   "outputs": [],
   "source": [
    "import pandas as pd\n",
    "\n",
    "df = pd.read_csv(f'{data_dir}/Cochrane.tsv', sep='\\t')\n",
    "df['#words'] = [len(a.split()) for a in df['abstract']]"
   ]
  },
  {
   "cell_type": "markdown",
   "id": "57c02ec4-e6b2-4cae-8112-40b65ce544a3",
   "metadata": {},
   "source": [
    "### Exploring the data"
   ]
  },
  {
   "cell_type": "code",
   "execution_count": 4,
   "id": "cc9c7995-3c76-41bd-858b-36b34ce0ae80",
   "metadata": {},
   "outputs": [
    {
     "data": {
      "text/html": [
       "<div>\n",
       "<style scoped>\n",
       "    .dataframe tbody tr th:only-of-type {\n",
       "        vertical-align: middle;\n",
       "    }\n",
       "\n",
       "    .dataframe tbody tr th {\n",
       "        vertical-align: top;\n",
       "    }\n",
       "\n",
       "    .dataframe thead th {\n",
       "        text-align: right;\n",
       "    }\n",
       "</style>\n",
       "<table border=\"1\" class=\"dataframe\">\n",
       "  <thead>\n",
       "    <tr style=\"text-align: right;\">\n",
       "      <th></th>\n",
       "      <th>#words</th>\n",
       "    </tr>\n",
       "  </thead>\n",
       "  <tbody>\n",
       "    <tr>\n",
       "      <th>count</th>\n",
       "      <td>22439.000000</td>\n",
       "    </tr>\n",
       "    <tr>\n",
       "      <th>mean</th>\n",
       "      <td>166.059361</td>\n",
       "    </tr>\n",
       "    <tr>\n",
       "      <th>std</th>\n",
       "      <td>132.962370</td>\n",
       "    </tr>\n",
       "    <tr>\n",
       "      <th>min</th>\n",
       "      <td>50.000000</td>\n",
       "    </tr>\n",
       "    <tr>\n",
       "      <th>25%</th>\n",
       "      <td>68.000000</td>\n",
       "    </tr>\n",
       "    <tr>\n",
       "      <th>50%</th>\n",
       "      <td>99.000000</td>\n",
       "    </tr>\n",
       "    <tr>\n",
       "      <th>75%</th>\n",
       "      <td>249.000000</td>\n",
       "    </tr>\n",
       "    <tr>\n",
       "      <th>max</th>\n",
       "      <td>511.000000</td>\n",
       "    </tr>\n",
       "  </tbody>\n",
       "</table>\n",
       "</div>"
      ],
      "text/plain": [
       "             #words\n",
       "count  22439.000000\n",
       "mean     166.059361\n",
       "std      132.962370\n",
       "min       50.000000\n",
       "25%       68.000000\n",
       "50%       99.000000\n",
       "75%      249.000000\n",
       "max      511.000000"
      ]
     },
     "execution_count": 4,
     "metadata": {},
     "output_type": "execute_result"
    }
   ],
   "source": [
    "df.describe()"
   ]
  },
  {
   "cell_type": "code",
   "execution_count": 5,
   "id": "DosEQGqv4ZbR",
   "metadata": {
    "colab": {
     "base_uri": "https://localhost:8080/"
    },
    "id": "DosEQGqv4ZbR",
    "outputId": "35d048fc-1ed1-4c63-acff-32601547fa85"
   },
   "outputs": [
    {
     "data": {
      "text/plain": [
       "'Cranberries (particularly in the form of cranberry juice) have been used widely for several decades for the prevention and treatment of urinary tract infections (UTIs). The aim of this review is to assess the effectiveness of cranberries in treating such infections. To assess the effectiveness of cranberries for the treatment of UTIs. We searched the Cochrane Kidney and Transplant Register of Studies up to 1 August 2023 through contact with the Information Specialist using search terms relevant to this review. Studies in the Register are identified through searches of CENTRAL, MEDLINE, and EMBASE, conference proceedings, the International Clinical Trials Registry Portal (ICTRP) Search Portal and ClinicalTrials.gov. All randomised controlled trials (RCTs) or quasi-RCTs of cranberry juice or cranberry products for the treatment of UTIs. Studies of men, women or children were to be included. Titles and abstracts of studies that were potentially relevant to the review were screened and studies that were clearly ineligible were discarded. Further information was sought from the authors where papers contained insufficient information to make a decision about eligibility. No studies were found that fulfilled all of our inclusion criteria. Seven studies were excluded because they were the wrong study design, mixed interventions or did not report any relevant outcomes. One study is ongoing; however, its current status is unknown. After a thorough search, no RCTs which assessed the effectiveness of cranberry juice for the treatment of UTIs were found. Therefore, at the present time, there is no good quality evidence to suggest that it is effective for the treatment of UTIs. Well-designed parallel-group, double-blind studies comparing cranberry juice and other cranberry products versus placebo to assess the effectiveness of cranberry juice in treating UTIs are needed. Outcomes should include a reduction in symptoms, sterilisation of the urine, side effects and adherence to therapy. The dosage (amount and concentration) and duration of therapy should also be assessed. Consumers and clinicians will welcome the evidence from these studies.'"
      ]
     },
     "execution_count": 5,
     "metadata": {},
     "output_type": "execute_result"
    }
   ],
   "source": [
    "df['abstract'][0]"
   ]
  },
  {
   "cell_type": "markdown",
   "id": "Op3KMboHKHjZ",
   "metadata": {
    "id": "Op3KMboHKHjZ"
   },
   "source": [
    "### Clean abstracts\n",
    "* The abstracts have already been cleaned before loading them.\n",
    "* Step is skipped here."
   ]
  },
  {
   "cell_type": "markdown",
   "id": "5a97b9d5-9fd8-48d1-a650-dc6142c2a801",
   "metadata": {
    "id": "5a97b9d5-9fd8-48d1-a650-dc6142c2a801"
   },
   "source": [
    "## Using Google Gemini API\n",
    "\n",
    "See the getting started guide for more information:\n",
    "https://ai.google.dev/gemini-api/docs/get-started/python"
   ]
  },
  {
   "cell_type": "code",
   "execution_count": 6,
   "id": "bee02ca5-348b-445e-bcae-b846e73ed830",
   "metadata": {
    "id": "bee02ca5-348b-445e-bcae-b846e73ed830"
   },
   "outputs": [],
   "source": [
    "import os\n",
    "\n",
    "import google.generativeai as genai\n",
    "from google.api_core.retry import Retry\n",
    "\n",
    "genai.configure(api_key=os.environ['GEMINI_API_KEY'])\n",
    "\n",
    "# Create the model\n",
    "# See https://ai.google.dev/api/python/google/generativeai/GenerativeModel\n",
    "generation_config = {\n",
    "  \"temperature\": 1,\n",
    "  \"top_p\": 0.95,\n",
    "  \"top_k\": 64,\n",
    "  \"max_output_tokens\": 8192,\n",
    "  \"response_mime_type\": \"text/plain\",\n",
    "}\n",
    "# Safety settings are disabled as input text describing\n",
    "# patient's mental health experience can contain disturbing\n",
    "# content which is blocked by Gemini API filters.\n",
    "safety_settings = [\n",
    "  {\n",
    "    \"category\": \"HARM_CATEGORY_HARASSMENT\",\n",
    "    \"threshold\": \"BLOCK_LOW_AND_ABOVE\",\n",
    "  },\n",
    "  {\n",
    "    \"category\": \"HARM_CATEGORY_HATE_SPEECH\",\n",
    "    \"threshold\": \"BLOCK_LOW_AND_ABOVE\",\n",
    "  },\n",
    "  {\n",
    "    \"category\": \"HARM_CATEGORY_SEXUALLY_EXPLICIT\",\n",
    "    \"threshold\": \"BLOCK_LOW_AND_ABOVE\",\n",
    "  },\n",
    "  {\n",
    "    \"category\": \"HARM_CATEGORY_DANGEROUS_CONTENT\",\n",
    "    \"threshold\": \"BLOCK_LOW_AND_ABOVE\",\n",
    "  },\n",
    "]\n",
    "\n",
    "model = genai.GenerativeModel(\n",
    "    model_name=\"gemini-1.5-flash\",\n",
    "    safety_settings=safety_settings,\n",
    "    generation_config=generation_config,\n",
    ")\n",
    "\n",
    "def generate(description: str) -> str:\n",
    "    '''\n",
    "    Generate output using Gemini-Flash API.\n",
    "    Response is in markdown format.\n",
    "    '''\n",
    "    intro = \"The below text contains some biomedical literature which is difficult for a layperson to understand.\"\n",
    "    # Below instructions are used by the model to convert the description into a structured format\n",
    "    instructions = \"For the above text, create a simplified English version of the text which can be understood by a native English layperson with no medical background. Put the section heading as English simplified. The output section should have 1 paragraphs corresponding to the input text.\\nNext, create an even more simpler version of the text which can be understood by a native English school kid with no medical background. Put the section heading as English super simplified. The output section should have 1 paragraphs corresponding to the input text.\\n\\nNext, created translated version of the simplified text in the following languages: Mandarin, followed by Spanish, followed by Arabic, followed by Hindi, followed by Bengali, followed by Portuguese, followed by Russian, followed by Japanese, followed by Punjabi\\nPut the section heading as Langauge name Simplified. The output section should have 1 paragraphs corresponding to the input text. If some English terms excluding acronyms and numbers can't be translated then transliterate them.\\n\\nLet the voice in simplified text be same as in the original text so that the person narrating appears consistent. If there any URL links present in the original text then retain them in the simplified text as well.\"\n",
    "\n",
    "    response = model.generate_content(f\"{instructions}\\n\\n{description}\", request_options={'timeout': 150, 'retry': Retry()})\n",
    "    return response.text"
   ]
  },
  {
   "cell_type": "markdown",
   "id": "0301be02-0076-4af1-822c-e907f30ed317",
   "metadata": {
    "id": "0301be02-0076-4af1-822c-e907f30ed317",
    "jp-MarkdownHeadingCollapsed": true
   },
   "source": [
    "### Test sample"
   ]
  },
  {
   "cell_type": "markdown",
   "id": "24c587b5-b8d8-4984-9ecb-a12bfe51b7ae",
   "metadata": {
    "id": "24c587b5-b8d8-4984-9ecb-a12bfe51b7ae"
   },
   "source": [
    "#### Cochrane abstract sample abstract\n",
    "\n",
    "We included diagnostic accuracy studies of symptomatic or asymptomatic nonpregnant women and men reproductive age. Included trials should have prospectively enrolled participants without previous diagnostic testing, co-infections or complications and consecutively or through random sampling at primary or secondary care facilities. Only studies reporting that all participants received the index test and the reference standard and presenting 2 x 2 data were eligible for inclusion. We excluded diagnostic case-control studies."
   ]
  },
  {
   "cell_type": "code",
   "execution_count": 12,
   "id": "24a614c4-2c56-4b12-a238-0e0192fbcea3",
   "metadata": {
    "id": "24a614c4-2c56-4b12-a238-0e0192fbcea3"
   },
   "outputs": [],
   "source": [
    "sample = \"We included diagnostic accuracy studies of symptomatic or asymptomatic nonpregnant women and men reproductive age. Included trials should have prospectively enrolled participants without previous diagnostic testing, co-infections or complications and consecutively or through random sampling at primary or secondary care facilities. Only studies reporting that all participants received the index test and the reference standard and presenting 2 x 2 data were eligible for inclusion. We excluded diagnostic case-control studies.\"\n",
    "output = generate(sample)"
   ]
  },
  {
   "cell_type": "markdown",
   "id": "12dabfca-e36a-4eba-91b8-c6130f457549",
   "metadata": {
    "id": "12dabfca-e36a-4eba-91b8-c6130f457549"
   },
   "source": [
    "#### Simplified texts generated"
   ]
  },
  {
   "cell_type": "code",
   "execution_count": 13,
   "id": "334f7035-e53f-4e56-aa94-e886a74ac60f",
   "metadata": {
    "colab": {
     "base_uri": "https://localhost:8080/",
     "height": 1000
    },
    "id": "334f7035-e53f-4e56-aa94-e886a74ac60f",
    "outputId": "841cceac-12b1-4f10-e2d4-36037a5422a0",
    "scrolled": true
   },
   "outputs": [
    {
     "data": {
      "text/markdown": [
       "## English Simplified\n",
       "\n",
       "We looked at studies that tested how well certain tests could find out if people had a particular condition. These studies focused on people who were not pregnant, both men and women of childbearing age. The studies needed to include people who were:\n",
       "\n",
       "* **Not showing symptoms or had symptoms of the condition.**<br>* **Hadn't been tested for the condition before.**<br>* **Didn't have other infections or complications.**<br>* **Were recruited consecutively or randomly from primary or secondary healthcare facilities.**<br>\n",
       "We only included studies where everyone received both the test being studied and the standard test used to confirm the diagnosis. These studies also needed to provide specific data about the results of both tests. We excluded studies that looked at cases and controls separately. \n",
       "\n",
       "## English Super Simplified\n",
       "\n",
       "We studied how good certain tests were at finding out if people had a specific problem. We looked at people who were not pregnant, both men and women who could have babies. The people in the studies:\n",
       "\n",
       "* **Didn't have any signs of the problem or had some signs.**<br>* **Had never been tested for the problem before.**<br>* **Didn't have other problems or infections.**<br>* **Were chosen from regular clinics or hospitals.**<br>\n",
       "We only looked at studies where everyone took both the new test and the regular test used to find out if they had the problem.  We also needed the studies to show the results of both tests in a specific way. We didn't include studies that looked at groups of people with and without the problem separately. \n",
       "\n",
       "## Mandarin Simplified\n",
       "\n",
       "我们研究了某些测试在发现人们是否患有特定疾病方面的效果。我们研究了非孕妇人群，包括能够生育的男性和女性。这些研究中的人们：\n",
       "\n",
       "* **没有表现出任何疾病症状或表现出了一些症状。**<br>* **以前从未接受过该疾病的测试。**<br>* **没有其他疾病或感染。**<br>* **是从普通诊所或医院中随机选择的。**<br>\n",
       "我们只研究了所有人接受了新测试和用于确定他们是否患有该疾病的常规测试的研究。我们还需要这些研究以特定方式展示两种测试的结果。我们没有包括单独研究有病和无病人群体的研究。\n",
       "\n",
       "## Spanish Simplified\n",
       "\n",
       "Estudiamos qué tan buenas eran ciertas pruebas para determinar si las personas tenían un problema específico. Analizamos a personas que no estaban embarazadas, tanto hombres como mujeres en edad fértil. Las personas en los estudios:\n",
       "\n",
       "* **No tenían ningún signo del problema o tenían algunos signos.**<br>* **Nunca habían sido examinados para el problema antes.**<br>* **No tenían otros problemas o infecciones.**<br>* **Fueron seleccionados de clínicas o hospitales regulares.**<br>\n",
       "Solo analizamos estudios donde todos realizaron tanto la nueva prueba como la prueba regular utilizada para determinar si tenían el problema. También necesitábamos que los estudios mostraran los resultados de ambas pruebas de una manera específica. No incluimos estudios que analizaran grupos de personas con y sin el problema por separado. \n",
       "\n",
       "## Arabic Simplified\n",
       "\n",
       "درسنا مدى جودة بعض الاختبارات في الكشف عن وجود مشكلة معينة لدى الأشخاص. درسنا أشخاصًا غير حوامل، سواء كانوا رجالًا أو نساءً في سن الإنجاب. الأشخاص المشمولون في الدراسات:\n",
       "\n",
       "* **لم تظهر عليهم أي علامات للمشكلة أو ظهرت عليهم بعض العلامات.**<br>* **لم يتم اختبارهم للمشكلة من قبل.**<br>* **لم يعانوا من مشاكل أو عدوى أخرى.**<br>* **تم اختيارهم من عيادات أو مستشفيات عادية.**<br>\n",
       "درسنا فقط الدراسات التي خضع فيها جميع الأشخاص لكل من الاختبار الجديد والاختبار المعتاد المستخدم لمعرفة ما إذا كانت لديهم المشكلة. كما كنا بحاجة إلى أن تُظهر الدراسات نتائج الاختبارين بطريقة محددة. لم نقم بتضمين الدراسات التي درست مجموعات من الأشخاص المصابين بالمشكلة وغير المصابين بها بشكل منفصل.\n",
       "\n",
       "## Hindi Simplified\n",
       "\n",
       "हमने यह अध्ययन किया कि कुछ परीक्षणों में किसी विशिष्ट समस्या का पता लगाने में कितनी सफलता होती है। हमने ऐसे लोगों का अध्ययन किया जो गर्भवती नहीं थीं, जिसमें बच्चे पैदा करने योग्य पुरुष और महिलाएं शामिल थीं। इन अध्ययनों में शामिल लोगों ने:\n",
       "\n",
       "* **समस्या के कोई लक्षण नहीं दिखाए या कुछ लक्षण दिखाए।**<br>* **इस समस्या के लिए पहले कभी परीक्षण नहीं कराया था।**<br>* **किसी अन्य समस्या या संक्रमण से ग्रस्त नहीं थे।**<br>* **नियमित क्लीनिक या अस्पतालों से चुने गए थे।**<br>\n",
       "हमने केवल उन अध्ययनों को शामिल किया जिनमें सभी लोगों ने नया परीक्षण और समस्या का पता लगाने के लिए इस्तेमाल किया जाने वाला नियमित परीक्षण दोनों कराए थे। हमें यह भी जरूरी था कि ये अध्ययन दोनों परीक्षणों के परिणाम एक विशिष्ट तरीके से दिखाएं। हमने उन अध्ययनों को शामिल नहीं किया जो अलग-अलग रूप से समस्या वाले और समस्या न होने वाले लोगों के समूहों का अध्ययन करते थे।\n",
       "\n",
       "## Bengali Simplified\n",
       "\n",
       "আমরা কিছু পরীক্ষার ক্ষমতা পরীক্ষা করেছি, যেগুলো কোনও নির্দিষ্ট সমস্যার সনাক্তকরণে কতটা সফল। আমরা এমন লোকেদের উপর গবেষণা করেছি যারা গর্ভবতী ছিলেন না, যার মধ্যে রয়েছে সন্তানধারণের সক্ষম পুরুষ এবং মহিলা। এই গবেষণায় অংশগ্রহণকারীরা:\n",
       "\n",
       "* **সমস্যার কোন লক্ষণ দেখাননি বা কিছু লক্ষণ দেখিয়েছেন।**<br>* **এই সমস্যার জন্য পূর্বে কখনও পরীক্ষা করাননি।**<br>* **অন্য কোনও সমস্যা বা সংক্রমণে ভুগছেন না।**<br>* **নিয়মিত ক্লিনিক বা হাসপাতাল থেকে নির্বাচিত হয়েছেন।**<br>\n",
       "আমরা কেবলমাত্র এমন গবেষণা অন্তর্ভুক্ত করেছি যেখানে সকলেই নতুন পরীক্ষা এবং সমস্যা সনাক্তকরণের জন্য ব্যবহৃত নিয়মিত পরীক্ষা উভয়টিই করেছেন। আমাদের এটিও প্রয়োজন ছিল যে এই গবেষণাগুলো উভয় পরীক্ষার ফলাফল একটি নির্দিষ্ট উপায়ে দেখাবে। আমরা এমন গবেষণা অন্তর্ভুক্ত করিনি যা সমস্যাযুক্ত এবং সমস্যাবিহীন লোকেদের পৃথকভাবে গ্রুপ করে গবেষণা করে।\n",
       "\n",
       "## Portuguese Simplified\n",
       "\n",
       "Estudamos a precisão de certos testes na detecção de um problema específico. Analisamos pessoas que não estavam grávidas, tanto homens como mulheres em idade fértil. As pessoas nos estudos:\n",
       "\n",
       "* **Não apresentaram nenhum sinal do problema ou apresentaram alguns sinais.**<br>* **Nunca tinham sido testadas para o problema antes.**<br>* **Não tinham outros problemas ou infecções.**<br>* **Foram selecionadas de clínicas ou hospitais regulares.**<br>\n",
       "Incluímos apenas estudos onde todos realizaram tanto o novo teste quanto o teste regular usado para determinar se tinham o problema. Também precisávamos que os estudos mostrassem os resultados de ambos os testes de uma maneira específica. Não incluímos estudos que analisavam grupos de pessoas com e sem o problema separadamente. \n",
       "\n",
       "## Russian Simplified\n",
       "\n",
       "Мы изучили точность некоторых тестов в выявлении определенной проблемы. Мы проанализировали людей, которые не были беременны, как мужчин, так и женщин репродуктивного возраста. Люди, участвующие в исследованиях:\n",
       "\n",
       "* **Не демонстрировали никаких признаков проблемы или имели некоторые симптомы.**<br>* **Никогда ранее не проходили тестирование на эту проблему.**<br>* **Не имели других проблем или инфекций.**<br>* **Были отобраны в обычных клиниках или больницах.**<br>\n",
       "Мы включили только исследования, в которых все участники прошли как новый тест, так и стандартный тест, используемый для определения наличия проблемы. Нам также требовалось, чтобы исследования показывали результаты обоих тестов определенным образом. Мы не включали исследования, которые анализировали группы людей с проблемой и без нее отдельно. \n",
       "\n",
       "## Japanese Simplified\n",
       "\n",
       "私たちは、特定の問題を検出する特定のテストの精度を調べました。私たちは、妊娠していない、出産可能な年齢の男性と女性の両方を対象に分析を行いました。研究に参加した人は：\n",
       "\n",
       "* **問題の兆候を示さなかったか、またはいくつかの兆候を示していました。**<br>* **以前にその問題について検査を受けたことがありませんでした。**<br>* **他の問題や感染症にかかっていませんでした。**<br>* **通常のクリニックまたは病院から選ばれました。**<br>\n",
       "私たちは、すべての参加者が新しいテストと、問題があるかどうかを判断するために使用される標準的なテストの両方を受けた研究のみを含めました。また、研究には両方のテストの結果を特定の方法で示す必要もありました。私たちは、問題のある人と問題のない人のグループを別々に分析した研究は含めていませんでした。\n",
       "\n",
       "## Punjabi Simplified\n",
       "\n",
       "ਅਸੀਂ ਇੱਕ ਖਾਸ ਸਮੱਸਿਆ ਦਾ ਪਤਾ ਲਗਾਉਣ ਵਿੱਚ ਕੁਝ ਟੈਸਟਾਂ ਦੀ ਸ਼ੁੱਧਤਾ ਦਾ ਅਧਿਐਨ ਕੀਤਾ। ਅਸੀਂ ਗਰਭਵਤੀ ਨਾ ਹੋਣ ਵਾਲੇ, ਪ੍ਰਜਨਨ ਉਮਰ ਦੇ ਮਰਦਾਂ ਅਤੇ ਔਰਤਾਂ ਦਾ ਵਿਸ਼ਲੇਸ਼ਣ ਕੀਤਾ। ਇਨ੍ਹਾਂ ਅਧਿਐਨਾਂ ਵਿੱਚ ਸ਼ਾਮਲ ਲੋਕ:\n",
       "\n",
       "* **ਸਮੱਸਿਆ ਦੇ ਕੋਈ ਲੱਛਣ ਨਹੀਂ ਦਿਖਾਉਂਦੇ ਸਨ ਜਾਂ ਕੁਝ ਲੱਛਣ ਦਿਖਾਉਂਦੇ ਸਨ।**<br>* **ਪਹਿਲਾਂ ਕਦੇ ਵੀ ਇਸ ਸਮੱਸਿਆ ਲਈ ਟੈਸਟ ਨਹੀਂ ਕਰਾਇਆ ਸੀ।**<br>* **ਕੋਈ ਹੋਰ ਸਮੱਸਿਆ ਜਾਂ ਇਨਫੈਕਸ਼ਨ ਨਹੀਂ ਸੀ।**<br>* **ਨਿਯਮਤ ਕਲੀਨਿਕਾਂ ਜਾਂ ਹਸਪਤਾਲਾਂ ਤੋਂ ਚੁਣੇ ਗਏ ਸਨ।**<br>\n",
       "ਅਸੀਂ ਸਿਰਫ ਉਨ੍ਹਾਂ ਅਧਿਐਨਾਂ ਨੂੰ ਸ਼ਾਮਲ ਕੀਤਾ ਜਿੱਥੇ ਸਾਰੇ ਭਾਗੀਦਾਰਾਂ ਨੇ ਨਵਾਂ ਟੈਸਟ ਅਤੇ ਸਮੱਸਿਆ ਦੀ ਪਛਾਣ ਕਰਨ ਲਈ ਵਰਤੇ ਜਾਂਦੇ ਮਿਆਰੀ ਟੈਸਟ ਦੋਵੇਂ ਕਰਾਏ ਸਨ। ਸਾਨੂੰ ਇਹ ਵੀ ਜ਼ਰੂਰੀ ਸੀ ਕਿ ਇਨ੍ਹਾਂ ਅਧਿਐਨਾਂ ਵਿੱਚ ਦੋਵੇਂ ਟੈਸਟਾਂ ਦੇ ਨਤੀਜੇ ਇੱਕ ਖਾਸ ਤਰੀਕੇ ਨਾਲ ਦਿਖਾਏ ਜਾਣ। ਅਸੀਂ ਉਨ੍ਹਾਂ ਅਧਿਐਨਾਂ ਨੂੰ ਸ਼ਾਮਲ ਨਹੀਂ ਕੀਤਾ ਜੋ ਸਮੱਸਿਆ ਵਾਲੇ ਅਤੇ ਸਮੱਸਿਆ ਵਾਲੇ ਲੋਕਾਂ ਦੇ ਸਮੂਹਾਂ ਦਾ ਵੱਖਰਾ ਵਿਸ਼ਲੇਸ਼ਣ ਕਰਦੇ ਸਨ।\n"
      ],
      "text/plain": [
       "<IPython.core.display.Markdown object>"
      ]
     },
     "metadata": {},
     "output_type": "display_data"
    }
   ],
   "source": [
    "from IPython.display import Markdown, display\n",
    "\n",
    "display(Markdown(output.replace('**\\n', '**<br>')))"
   ]
  },
  {
   "cell_type": "markdown",
   "id": "b5c82a4f-2ddf-42b1-b29a-8348e1e7b87a",
   "metadata": {
    "id": "b5c82a4f-2ddf-42b1-b29a-8348e1e7b87a"
   },
   "source": [
    "### Loading Cochrane dataset\n",
    "\n",
    "* Load previously cleaned and filtered data from Devaraj et al. work in Paragraph level text simplification"
   ]
  },
  {
   "cell_type": "code",
   "execution_count": 7,
   "id": "811bcdfd-bf45-436b-b476-455eedeebe2f",
   "metadata": {
    "colab": {
     "base_uri": "https://localhost:8080/",
     "height": 300
    },
    "id": "811bcdfd-bf45-436b-b476-455eedeebe2f",
    "outputId": "238afbe4-b1ee-46e1-acce-2e165948a1cf"
   },
   "outputs": [],
   "source": [
    "import pandas as pd\n",
    "\n",
    "df = pd.read_csv(f'{data_dir}/Cochrane.tsv', sep='\\t')"
   ]
  },
  {
   "cell_type": "markdown",
   "id": "f00424c9-73dd-4bb0-9a42-0d5a104d5cbe",
   "metadata": {
    "id": "f00424c9-73dd-4bb0-9a42-0d5a104d5cbe"
   },
   "source": [
    "### Generate in batches & parallel\n",
    "* We append the multiple queries into one single request which we call as a batch."
   ]
  },
  {
   "cell_type": "code",
   "execution_count": 8,
   "id": "0c3fd44d-a43a-4bf7-a52b-e330a86b84f0",
   "metadata": {
    "id": "0c3fd44d-a43a-4bf7-a52b-e330a86b84f0"
   },
   "outputs": [],
   "source": [
    "import importlib\n",
    "import os\n",
    "import re\n",
    "from time import sleep\n",
    "from typing import List, Tuple\n",
    "\n",
    "import numpy as np\n",
    "from google.api_core.exceptions import ResourceExhausted\n",
    "from joblib import Parallel, delayed\n",
    "from requests.exceptions import RequestException\n",
    "from tqdm import tqdm\n",
    "\n",
    "progress_bar = None\n",
    "RETRIES = 200 # Occasionally, the Gemini API can have glitches\n",
    "failures = list() # All failed inputs get stored here\n",
    "SAVE = True\n",
    "DEBUG = True # Displays errors\n",
    "\n",
    "REQUEST_TIMEOUT = 180 # If it takes longer than 3 minutes then timeout\n",
    "GEMINI_API_LIMIT = 1500\n",
    "GEMINI_MAX_OUT = 8196 # Maximum number of tokens that can be returned\n",
    "TOKEN_RETURN_RATIO = 16 # Approximate output tokens returned for input text\n",
    "\n",
    "if not os.path.exists(results_dir):\n",
    "    os.makedirs(results_dir)\n",
    "\n",
    "\n",
    "def get_model(api_key: str) -> genai.GenerativeModel:\n",
    "    '''Returns a model configured with the API key to be used for parallel requests.'''\n",
    "    module_name = 'google.generativeai'\n",
    "    _genai = importlib.import_module(module_name)\n",
    "    _genai.configure(api_key=api_key)\n",
    "    return _genai.GenerativeModel(\n",
    "        model_name=\"gemini-1.5-flash\",\n",
    "        safety_settings=safety_settings,\n",
    "        generation_config=generation_config,\n",
    "    )\n",
    "\n",
    "\n",
    "def save_batch(text: str) -> None:\n",
    "    matches = list(re.finditer(r\"#*\\s*Text ID (\\d+)\", text))\n",
    "    # Split the text based on Text ids\n",
    "    for i in range(len(matches)):\n",
    "        start = matches[i].start()\n",
    "        if i < len(matches) - 1:\n",
    "            end = matches[i + 1].start()\n",
    "        else:\n",
    "            end = len(text)\n",
    "        record_number = int(matches[i].group(1))\n",
    "\n",
    "        with open(f'{results_dir}/{record_number}.md', 'w') as fp:\n",
    "            fp.write(text[start:end].strip())\n",
    "\n",
    "\n",
    "def generate_and_save(batch: List[Tuple[int, str]]) -> None:\n",
    "    '''\n",
    "    Generates and stores simplified text for the\n",
    "    given batch using the Google Gemini Flash API.\n",
    "    Response can be in markdown format or sometimes as plain text.\n",
    "    '''\n",
    "    # Below instructions are used by the model to convert the description into a structured format\n",
    "    intro = f\"{len(batch)} biomedical literature texts are provided below which are difficult for a layperson to understand.\"\n",
    "    # Below instructions are used by the model to convert the description into a structured format\n",
    "    instructions = \"For each of the above texts, create a simplified English version of the text which can be understood by a native English layperson with no medical background. Put the section heading as English simplified. The output section should have 1 paragraphs corresponding to the input text.\\nNext, create an even more simpler version of the text which can be understood by a native English school kid with no medical background. Put the section heading as English super simplified. The output section should have 1 paragraphs corresponding to the input text.\\n\\nNext, created translated version of the simplified text in the following languages: Mandarin, followed by Spanish, followed by Arabic, followed by Hindi, followed by Bengali, followed by Portuguese, followed by Russian, followed by Japanese, followed by Punjabi\\nPut the section heading as Langauge name Simplified. The output section should have 1 paragraphs corresponding to the input text. If some English terms excluding acronyms and numbers can't be translated then transliterate them. Put the heading for each text as ## Text ID X, where X is the id of the text.\\n\\nLet the voice in simplified text be same as in the original text so that the person narrating appears consistent. If there any URL links present in the original text then retain them in the simplified text as well.\"\n",
    "    batch_description = '\\n\\n'.join([f'Text ID {i}: {desc}'.replace('\\n', ' ') for i, desc in batch])\n",
    "    \n",
    "    try:\n",
    "        response = model.generate_content(f\"{intro}\\n\\n{batch_description}\\n\\n{instructions}\", request_options={'timeout': REQUEST_TIMEOUT})\n",
    "\n",
    "        if SAVE:\n",
    "            save_batch(response.text)\n",
    "\n",
    "    except (RequestException, ValueError):\n",
    "        # For very long output the request can timeout\n",
    "        # For output containing unsafe text, ValueError is raised\n",
    "        if DEBUG:\n",
    "            print(f'Skipped the following indices for producing unsafe outputs:', [i for i, desc in batch])\n",
    "\n",
    "    except Exception as e:\n",
    "        global RETRIES\n",
    "        if RETRIES <= 0:\n",
    "            print(f\"Error for batch: {e}\")\n",
    "            failures.append(batch_description)\n",
    "        else:\n",
    "            RETRIES -= 1\n",
    "            if DEBUG:\n",
    "                print('Retries left:', RETRIES, f'| {type(e).__name__}')\n",
    "            sleep(10+RETRIES%10)\n",
    "            return generate_and_save(batch)\n",
    "\n",
    "    progress_bar.update(1)\n",
    "\n",
    "\n",
    "def batch_generate(descriptions: List[str], start_at: int = 0, n_jobs: int = 1) -> None:\n",
    "    '''\n",
    "    Generates and stores simplified medical text in batches and in parallel.\n",
    "    '''\n",
    "    tasks = list()\n",
    "\n",
    "    # Gemini has a max output limit of 8196, based on which we dynamically select the size of every batch.\n",
    "    i = start_at\n",
    "    while i < len(descriptions) and len(tasks)<GEMINI_API_LIMIT:\n",
    "        batch = []\n",
    "        num_words = 0\n",
    "        for j in range(i, len(descriptions)):\n",
    "            num_words += len(descriptions[j].split())\n",
    "            if j > i and num_words * TOKEN_RETURN_RATIO >= GEMINI_MAX_OUT:\n",
    "                break\n",
    "            batch.append((j, descriptions[j]))\n",
    "        tasks.append((batch,))\n",
    "        i += len(batch)\n",
    "\n",
    "    global progress_bar\n",
    "    progress_bar = tqdm(total=len(tasks))\n",
    "\n",
    "    Parallel(n_jobs=n_jobs, prefer='threads')(delayed(generate_and_save)(*task) for task in tasks)"
   ]
  },
  {
   "cell_type": "code",
   "execution_count": null,
   "id": "e265bd40-fdec-481f-ab07-cf639a03f6f6",
   "metadata": {
    "scrolled": true
   },
   "outputs": [],
   "source": [
    "model = get_model(os.environ[f'GEMINI_API_KEY'])\n",
    "batch_generate(\n",
    "    descriptions = df['abstract'].tolist(), # Get all records\n",
    "    start_at = max([int(n.split('.')[0])+1 for n in os.listdir(results_dir) if '.md' in n], default=0), # Skip if previously mined\n",
    "    n_jobs = 8 # Adjust based on hardware and Gemini API per minute token rate limit\n",
    ")"
   ]
  },
  {
   "cell_type": "code",
   "execution_count": 11,
   "id": "3f8035f3-3ebd-48e9-8ef3-2f5092887ef3",
   "metadata": {},
   "outputs": [
    {
     "data": {
      "text/plain": [
       "18406"
      ]
     },
     "execution_count": 11,
     "metadata": {},
     "output_type": "execute_result"
    }
   ],
   "source": [
    "max([int(n.split('.')[0])+1 for n in os.listdir(results_dir) if '.md' in n], default=0)"
   ]
  },
  {
   "cell_type": "code",
   "execution_count": null,
   "id": "7c3de2d8-b2d2-4417-9283-bae3595ebbd2",
   "metadata": {},
   "outputs": [],
   "source": []
  }
 ],
 "metadata": {
  "colab": {
   "provenance": []
  },
  "kernelspec": {
   "display_name": "Python 3 (ipykernel)",
   "language": "python",
   "name": "python3"
  },
  "language_info": {
   "codemirror_mode": {
    "name": "ipython",
    "version": 3
   },
   "file_extension": ".py",
   "mimetype": "text/x-python",
   "name": "python",
   "nbconvert_exporter": "python",
   "pygments_lexer": "ipython3",
   "version": "3.11.6"
  },
  "widgets": {
   "application/vnd.jupyter.widget-state+json": {
    "state": {},
    "version_major": 2,
    "version_minor": 0
   }
  }
 },
 "nbformat": 4,
 "nbformat_minor": 5
}
