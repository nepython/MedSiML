{
 "cells": [
  {
   "cell_type": "code",
   "execution_count": 2,
   "id": "880ed483-5df3-407b-819f-57d06cfcae66",
   "metadata": {},
   "outputs": [],
   "source": [
    "#NOTE: Create a .env file and put gemini keys in there as `GEMINI_API_KEY=...`\n",
    "%load_ext dotenv\n",
    "%dotenv"
   ]
  },
  {
   "cell_type": "code",
   "execution_count": 3,
   "id": "1a388b48",
   "metadata": {},
   "outputs": [],
   "source": [
    "import os\n",
    "\n",
    "parent_dir = os.path.dirname(os.getcwd())\n",
    "data_dir = f'{parent_dir}/data'\n",
    "results_dir = f'{parent_dir}/gemini_output/markdown_wiki'"
   ]
  },
  {
   "cell_type": "markdown",
   "id": "Ai_PykEiyj_X",
   "metadata": {
    "id": "Ai_PykEiyj_X"
   },
   "source": [
    "## Download data from Hugging Face"
   ]
  },
  {
   "cell_type": "code",
   "execution_count": null,
   "id": "T6OAqkDrykXg",
   "metadata": {
    "id": "T6OAqkDrykXg"
   },
   "outputs": [],
   "source": [
    "from datasets import load_dataset\n",
    "\n",
    "dataset = load_dataset(\"wikipedia\", \"20220301.en\", split=\"train\", streaming=True)"
   ]
  },
  {
   "cell_type": "markdown",
   "id": "20a81ef8",
   "metadata": {},
   "source": [
    "### Filter for medical domain"
   ]
  },
  {
   "cell_type": "code",
   "execution_count": 5,
   "id": "8028209d-cda4-4dbd-b1c1-204dd96e474e",
   "metadata": {},
   "outputs": [],
   "source": [
    "import re\n",
    "from tqdm import tqdm\n",
    "\n",
    "medical_keywords = [\n",
    "    \"medicine\", \"health\", \"disease\", \"treatment\", \"medical\", \"hospital\", \"doctor\", \"nurse\",\n",
    "    \"pharmacy\", \"surgery\", \"clinical\", \"therapy\", \"diagnosis\", \"patient\", \"epidemic\", \"virus\",\n",
    "    \"bacteria\", \"vaccine\"\n",
    "]\n",
    "\n",
    "def is_medical_article(article):\n",
    "    title = article[\"title\"].lower()\n",
    "    return any(re.search(rf\"\\b{keyword}\\b\", title) for keyword in medical_keywords)\n",
    "\n",
    "def split_into_paragraphs(article):\n",
    "    paragraphs = article[\"text\"].split(\"\\n\\n\")\n",
    "    return paragraphs"
   ]
  },
  {
   "cell_type": "code",
   "execution_count": 8,
   "id": "1fa9ba14",
   "metadata": {},
   "outputs": [
    {
     "name": "stderr",
     "output_type": "stream",
     "text": [
      "Processing Paragraphs:  12%|█▏        | 6153/50000 [01:23<21:45, 33.59it/s] '(ReadTimeoutError(\"HTTPSConnectionPool(host='huggingface.co', port=443): Read timed out. (read timeout=10)\"), '(Request ID: 8335e763-66be-40ec-95e4-1b622b019b90)')' thrown while requesting GET https://huggingface.co/datasets/wikipedia/resolve/main/data/20220301.en/train-00000-of-00041.parquet\n",
      "Retrying in 1s [Retry 1/5].\n",
      "Processing Paragraphs: 50010it [09:20, 68.05it/s]                            "
     ]
    }
   ],
   "source": [
    "articles = []\n",
    "max_paragraphs = 50000\n",
    "pbar = tqdm(total=max_paragraphs, desc=\"Processing Paragraphs\")\n",
    "\n",
    "for article in dataset:\n",
    "    if is_medical_article(article):\n",
    "        paragraphs = split_into_paragraphs(article)\n",
    "        articles.extend(paragraphs)\n",
    "        pbar.update(len(paragraphs))\n",
    "        if len(articles) >= max_paragraphs:\n",
    "            break\n"
   ]
  },
  {
   "cell_type": "code",
   "execution_count": 15,
   "id": "794134ed",
   "metadata": {},
   "outputs": [
    {
     "data": {
      "text/plain": [
       "'Motor neuron diseases or motor neurone diseases (MNDs) are a group of rare neurodegenerative disorders that selectively affect motor neurons, the cells which control voluntary muscles of the body. They include amyotrophic lateral sclerosis (ALS), progressive bulbar palsy (PBP), pseudobulbar palsy, progressive muscular atrophy (PMA), primary lateral sclerosis (PLS), spinal muscular atrophy (SMA) and monomelic amyotrophy (MMA), as well as some rarer variants resembling ALS.'"
      ]
     },
     "execution_count": 15,
     "metadata": {},
     "output_type": "execute_result"
    }
   ],
   "source": [
    "articles[0]"
   ]
  },
  {
   "cell_type": "markdown",
   "id": "9cd3933e",
   "metadata": {},
   "source": [
    "### Save the data"
   ]
  },
  {
   "cell_type": "code",
   "execution_count": 20,
   "id": "750d2bf1-5889-4e95-a308-873dfaa8339a",
   "metadata": {},
   "outputs": [
    {
     "data": {
      "text/html": [
       "<div>\n",
       "<style scoped>\n",
       "    .dataframe tbody tr th:only-of-type {\n",
       "        vertical-align: middle;\n",
       "    }\n",
       "\n",
       "    .dataframe tbody tr th {\n",
       "        vertical-align: top;\n",
       "    }\n",
       "\n",
       "    .dataframe thead th {\n",
       "        text-align: right;\n",
       "    }\n",
       "</style>\n",
       "<table border=\"1\" class=\"dataframe\">\n",
       "  <thead>\n",
       "    <tr style=\"text-align: right;\">\n",
       "      <th></th>\n",
       "      <th>#words</th>\n",
       "    </tr>\n",
       "  </thead>\n",
       "  <tbody>\n",
       "    <tr>\n",
       "      <th>count</th>\n",
       "      <td>38430.000000</td>\n",
       "    </tr>\n",
       "    <tr>\n",
       "      <th>mean</th>\n",
       "      <td>76.719542</td>\n",
       "    </tr>\n",
       "    <tr>\n",
       "      <th>std</th>\n",
       "      <td>64.191047</td>\n",
       "    </tr>\n",
       "    <tr>\n",
       "      <th>min</th>\n",
       "      <td>10.000000</td>\n",
       "    </tr>\n",
       "    <tr>\n",
       "      <th>25%</th>\n",
       "      <td>35.000000</td>\n",
       "    </tr>\n",
       "    <tr>\n",
       "      <th>50%</th>\n",
       "      <td>61.000000</td>\n",
       "    </tr>\n",
       "    <tr>\n",
       "      <th>75%</th>\n",
       "      <td>99.000000</td>\n",
       "    </tr>\n",
       "    <tr>\n",
       "      <th>max</th>\n",
       "      <td>1004.000000</td>\n",
       "    </tr>\n",
       "  </tbody>\n",
       "</table>\n",
       "</div>"
      ],
      "text/plain": [
       "             #words\n",
       "count  38430.000000\n",
       "mean      76.719542\n",
       "std       64.191047\n",
       "min       10.000000\n",
       "25%       35.000000\n",
       "50%       61.000000\n",
       "75%       99.000000\n",
       "max     1004.000000"
      ]
     },
     "execution_count": 20,
     "metadata": {},
     "output_type": "execute_result"
    }
   ],
   "source": [
    "import pandas as pd\n",
    "\n",
    "min_words = 10\n",
    "max_words = 1024\n",
    "\n",
    "df = pd.DataFrame(columns=['abstract'], data=articles)\n",
    "df['#words'] = [len(a.split()) for a in articles]\n",
    "df = df[(df['#words'] >= min_words) & (df['#words'] <= max_words)]\n",
    "df.drop_duplicates(inplace=True)\n",
    "df.describe()"
   ]
  },
  {
   "cell_type": "code",
   "execution_count": 24,
   "id": "ztTrsyL-1zNK",
   "metadata": {
    "id": "ztTrsyL-1zNK"
   },
   "outputs": [],
   "source": [
    "df.drop(columns=['#words'])\n",
    "df.to_csv(f'{data_dir}/Wikipedia_articles.tsv', sep='\\t', index=False)"
   ]
  },
  {
   "cell_type": "markdown",
   "id": "Op3KMboHKHjZ",
   "metadata": {
    "id": "Op3KMboHKHjZ"
   },
   "source": [
    "### Clean abstracts\n",
    "* Some abstracts may contain HTML tags wheras others may contain URL links.\n",
    "* We decided to retain the URL links but remove the HTML tags.\n",
    "* Section headings such as `AIM`, `OBSERVATION`, `CONCLUSION`, etc present in the PubMed abstracts are removed as most model tend to summarise and thus section headings are not needed."
   ]
  },
  {
   "cell_type": "code",
   "execution_count": 26,
   "id": "FL_B25kvLijz",
   "metadata": {
    "colab": {
     "base_uri": "https://localhost:8080/"
    },
    "id": "FL_B25kvLijz",
    "outputId": "c92cbca9-d389-4bc1-a86f-744eb9f1ca5e"
   },
   "outputs": [
    {
     "name": "stderr",
     "output_type": "stream",
     "text": [
      "/tmp/ipykernel_9615/2479256924.py:15: MarkupResemblesLocatorWarning: The input looks more like a filename than markup. You may want to open this file and pass the filehandle into Beautiful Soup.\n",
      "  soup = BeautifulSoup(strings[i], \"html.parser\")\n"
     ]
    },
    {
     "name": "stdout",
     "output_type": "stream",
     "text": [
      "Number of abstracts with HTML tags: 10\n",
      "Number of abstracts with URLs: 44\n"
     ]
    }
   ],
   "source": [
    "from bs4 import BeautifulSoup\n",
    "from typing import List\n",
    "\n",
    "def clean_html(strings: List[str]) -> List[str]:\n",
    "    count_html = 0\n",
    "    count_url = 0\n",
    "    \n",
    "    url_regex = r\"(https?://[^\\s]+)\"\n",
    "    # We remove special patterns which can be misidentified as HTML tags\n",
    "    patterns_to_exclude = [r'<<.*?>>']\n",
    "\n",
    "    for i in range(len(strings)):\n",
    "        for pattern in patterns_to_exclude:\n",
    "            strings[i] = re.sub(pattern, '', strings[i])\n",
    "        soup = BeautifulSoup(strings[i], \"html.parser\")\n",
    "        if soup.find():\n",
    "            strings[i] = soup.get_text()\n",
    "            count_html += 1\n",
    "        if bool(re.search(url_regex, strings[i])):\n",
    "            count_url += 1\n",
    "    \n",
    "    print(f\"Number of abstracts with HTML tags: {count_html}\")\n",
    "    print(f\"Number of abstracts with URLs: {count_url}\")\n",
    "    \n",
    "    return strings\n",
    "\n",
    "df['abstract'] = clean_html(df['abstract'].tolist())"
   ]
  },
  {
   "cell_type": "code",
   "execution_count": 27,
   "id": "NT6bzxqHJ9Mp",
   "metadata": {
    "colab": {
     "base_uri": "https://localhost:8080/"
    },
    "id": "NT6bzxqHJ9Mp",
    "outputId": "867bde15-9052-46a0-c4e3-357b5757a1c5"
   },
   "outputs": [],
   "source": [
    "# Save the downloaded and cleaned data\n",
    "df.to_csv(f'{data_dir}/Wikipedia_articles_cleaned.tsv', sep='\\t', index=False)"
   ]
  },
  {
   "cell_type": "markdown",
   "id": "5a97b9d5-9fd8-48d1-a650-dc6142c2a801",
   "metadata": {
    "id": "5a97b9d5-9fd8-48d1-a650-dc6142c2a801"
   },
   "source": [
    "## Using Google Gemini API\n",
    "\n",
    "See the getting started guide for more information:\n",
    "https://ai.google.dev/gemini-api/docs/get-started/python"
   ]
  },
  {
   "cell_type": "code",
   "execution_count": 4,
   "id": "bee02ca5-348b-445e-bcae-b846e73ed830",
   "metadata": {
    "id": "bee02ca5-348b-445e-bcae-b846e73ed830"
   },
   "outputs": [],
   "source": [
    "import os\n",
    "\n",
    "import google.generativeai as genai\n",
    "from google.api_core.retry import Retry\n",
    "\n",
    "genai.configure(api_key=os.environ['GEMINI_API_KEY'])\n",
    "\n",
    "# Create the model\n",
    "# See https://ai.google.dev/api/python/google/generativeai/GenerativeModel\n",
    "generation_config = {\n",
    "  \"temperature\": 1,\n",
    "  \"top_p\": 0.95,\n",
    "  \"top_k\": 64,\n",
    "  \"max_output_tokens\": 8192,\n",
    "  \"response_mime_type\": \"text/plain\",\n",
    "}\n",
    "# Safety settings are disabled as input text describing\n",
    "# patient's mental health experience can contain disturbing\n",
    "# content which is blocked by Gemini API filters.\n",
    "safety_settings = [\n",
    "  {\n",
    "    \"category\": \"HARM_CATEGORY_HARASSMENT\",\n",
    "    \"threshold\": \"BLOCK_NONE\",\n",
    "  },\n",
    "  {\n",
    "    \"category\": \"HARM_CATEGORY_HATE_SPEECH\",\n",
    "    \"threshold\": \"BLOCK_NONE\",\n",
    "  },\n",
    "  {\n",
    "    \"category\": \"HARM_CATEGORY_SEXUALLY_EXPLICIT\",\n",
    "    \"threshold\": \"BLOCK_NONE\",\n",
    "  },\n",
    "  {\n",
    "    \"category\": \"HARM_CATEGORY_DANGEROUS_CONTENT\",\n",
    "    \"threshold\": \"BLOCK_NONE\",\n",
    "  },\n",
    "]\n",
    "\n",
    "model = genai.GenerativeModel(\n",
    "    model_name=\"gemini-1.5-flash\",\n",
    "    safety_settings=safety_settings,\n",
    "    generation_config=generation_config,\n",
    ")\n",
    "\n",
    "def generate(description: str) -> str:\n",
    "    '''\n",
    "    Generate output using Gemini-Flash API.\n",
    "    Response is in markdown format.\n",
    "    '''\n",
    "    intro = \"The below text contains some biomedical literature which is difficult for a layperson to understand.\"\n",
    "    # Below instructions are used by the model to convert the description into a structured format\n",
    "    instructions = \"For the above text, create a simplified English version of the text which can be understood by a native English layperson with no medical background. Put the section heading as English simplified. The output section should have 1 paragraphs corresponding to the input text.\\nNext, create an even more simpler version of the text which can be understood by a native English school kid with no medical background. Put the section heading as English super simplified. The output section should have 1 paragraphs corresponding to the input text.\\n\\nNext, created translated version of the simplified text in the following languages: Mandarin, followed by Spanish, followed by Arabic, followed by Hindi, followed by Bengali, followed by Portuguese, followed by Russian, followed by Japanese, followed by Punjabi\\nPut the section heading as Langauge name Simplified. The output section should have 1 paragraphs corresponding to the input text. If some English terms excluding acronyms and numbers can't be translated then transliterate them.\\n\\nLet the voice in simplified text be same as in the original text so that the person narrating appears consistent. If there any URL links present in the original text then retain them in the simplified text as well.\"\n",
    "\n",
    "    response = model.generate_content(f\"{instructions}\\n\\n{description}\", request_options={'timeout': 150, 'retry': Retry()})\n",
    "    return response.text"
   ]
  },
  {
   "cell_type": "markdown",
   "id": "0301be02-0076-4af1-822c-e907f30ed317",
   "metadata": {
    "id": "0301be02-0076-4af1-822c-e907f30ed317",
    "jp-MarkdownHeadingCollapsed": true
   },
   "source": [
    "### Test sample"
   ]
  },
  {
   "cell_type": "markdown",
   "id": "24c587b5-b8d8-4984-9ecb-a12bfe51b7ae",
   "metadata": {
    "id": "24c587b5-b8d8-4984-9ecb-a12bfe51b7ae"
   },
   "source": [
    "#### Wikipedia sample article\n",
    "\n",
    "Motor neuron diseases or motor neurone diseases (MNDs) are a group of rare neurodegenerative disorders that selectively affect motor neurons, the cells which control voluntary muscles of the body. They include amyotrophic lateral sclerosis (ALS), progressive bulbar palsy (PBP), pseudobulbar palsy, progressive muscular atrophy (PMA), primary lateral sclerosis (PLS), spinal muscular atrophy (SMA) and monomelic amyotrophy (MMA), as well as some rarer variants resembling ALS."
   ]
  },
  {
   "cell_type": "code",
   "execution_count": 5,
   "id": "24a614c4-2c56-4b12-a238-0e0192fbcea3",
   "metadata": {
    "id": "24a614c4-2c56-4b12-a238-0e0192fbcea3"
   },
   "outputs": [],
   "source": [
    "sample = \"Motor neuron diseases or motor neurone diseases (MNDs) are a group of rare neurodegenerative disorders that selectively affect motor neurons, the cells which control voluntary muscles of the body. They include amyotrophic lateral sclerosis (ALS), progressive bulbar palsy (PBP), pseudobulbar palsy, progressive muscular atrophy (PMA), primary lateral sclerosis (PLS), spinal muscular atrophy (SMA) and monomelic amyotrophy (MMA), as well as some rarer variants resembling ALS.\"\n",
    "output = generate(sample)"
   ]
  },
  {
   "cell_type": "markdown",
   "id": "12dabfca-e36a-4eba-91b8-c6130f457549",
   "metadata": {
    "id": "12dabfca-e36a-4eba-91b8-c6130f457549"
   },
   "source": [
    "#### Simplified texts generated"
   ]
  },
  {
   "cell_type": "code",
   "execution_count": 6,
   "id": "334f7035-e53f-4e56-aa94-e886a74ac60f",
   "metadata": {
    "colab": {
     "base_uri": "https://localhost:8080/",
     "height": 1000
    },
    "id": "334f7035-e53f-4e56-aa94-e886a74ac60f",
    "outputId": "841cceac-12b1-4f10-e2d4-36037a5422a0",
    "scrolled": true
   },
   "outputs": [
    {
     "data": {
      "text/markdown": [
       "## English Simplified\n",
       "\n",
       "Motor neuron diseases (MNDs) are a group of uncommon diseases that damage the nerve cells that control our muscles. These diseases make it harder to move our bodies because they affect the nerves that tell our muscles what to do. Some examples of MNDs include amyotrophic lateral sclerosis (ALS), progressive bulbar palsy (PBP), pseudobulbar palsy, progressive muscular atrophy (PMA), primary lateral sclerosis (PLS), spinal muscular atrophy (SMA), and monomelic amyotrophy (MMA). There are also some rarer diseases that are similar to ALS. \n",
       "\n",
       "## English Super Simplified\n",
       "\n",
       "Motor neuron diseases (MNDs) are like diseases that hurt the special cells in our bodies that help us move. These diseases make it hard to use our muscles because they damage the cells that tell our muscles what to do. There are lots of different kinds of MNDs, like ALS, PBP, PMA, PLS, SMA, and MMA. There are also some other MNDs that are rare but act like ALS. \n",
       "\n",
       "## Mandarin Simplified\n",
       "\n",
       "运动神经元疾病 (MNDs) 是一组罕见的疾病，会损害控制我们肌肉的神经细胞。这些疾病使我们难以移动身体，因为它们会影响告诉我们肌肉该做什么的神经。一些 MND 的例子包括肌萎缩侧索硬化症 (ALS)、进行性延髓麻痹 (PBP)、假延髓麻痹、进行性肌萎缩 (PMA)、原发性侧索硬化症 (PLS)、脊髓性肌萎缩 (SMA) 和单肢肌萎缩 (MMA)。还有一些更罕见的疾病类似于 ALS。\n",
       "\n",
       "## Spanish Simplified\n",
       "\n",
       "Las enfermedades de la motoneurona (EMN) son un grupo de trastornos neurodegenerativos poco comunes que afectan selectivamente a las neuronas motoras, las células que controlan los músculos voluntarios del cuerpo. Incluyen la esclerosis lateral amiotrófica (ELA), la parálisis bulbar progresiva (PBP), la parálisis pseudobulbar, la atrofia muscular progresiva (PMA), la esclerosis lateral primaria (PLS), la atrofia muscular espinal (SMA) y la amiotrofia monomélica (MMA), así como algunas variantes más raras que se asemejan a la ELA.\n",
       "\n",
       "## Arabic Simplified\n",
       "\n",
       "أمراض الخلايا العصبية الحركية (MNDs) هي مجموعة من الاضطرابات العصبية التنكسية النادرة التي تؤثر بشكل انتقائي على الخلايا العصبية الحركية، وهي الخلايا التي تتحكم في العضلات الإرادية في الجسم. وتشمل هذه الأمراض التصلب الجانبي الضموري (ALS)، والشلل البُلبي التقدمي (PBP)، والشلل الزائف البُلبي، والضمور العضلي التقدمي (PMA)، والتصلب الجانبي الأولي (PLS)، والضمور العضلي الشوكي (SMA)، والضمور العضلي أحادي العظم (MMA)، بالإضافة إلى بعض الاختلافات النادرة التي تشبه ALS.\n",
       "\n",
       "## Hindi Simplified\n",
       "\n",
       "मोटर न्यूरॉन रोग (MNDs) दुर्लभ न्यूरोडिजेनेरेटिव विकारों का एक समूह है जो शरीर की स्वैच्छिक मांसपेशियों को नियंत्रित करने वाली कोशिकाओं, मोटर न्यूरॉन्स को चुनिंदा रूप से प्रभावित करते हैं। इसमें एमियोट्रोफिक लेटरल स्क्लेरोसिस (ALS), प्रोग्रेसिव बल्बर पैरालिसिस (PBP), स्यूडोबल्बर पैरालिसिस, प्रोग्रेसिव मस्कुलर एट्रोफी (PMA), प्राइमरी लेटरल स्क्लेरोसिस (PLS), स्पाइनल मस्कुलर एट्रोफी (SMA) और मोनोमेलिक एमियोट्रोफी (MMA) शामिल हैं, साथ ही ALS जैसी कुछ दुर्लभ रूप भी शामिल हैं।\n",
       "\n",
       "## Bengali Simplified\n",
       "\n",
       "মোটর নিউরন রোগ (MNDs) হলো বিরল নিউরোডেজেনারেটিভ ব্যাধিগুলির একটি গ্রুপ যা শরীরের স্বেচ্ছাসেবক পেশী নিয়ন্ত্রণকারী কোষগুলি, মোটর নিউরনগুলিকে নির্বাচনীভাবে প্রভাবিত করে। এর মধ্যে রয়েছে এমিয়োট্রফিক ল্যাটারাল স্ক্লেরোসিস (ALS), প্রোগ্রেসিভ বালবার প্যারালাইসিস (PBP), সিউডোবালবার প্যারালাইসিস, প্রোগ্রেসিভ মাসকুলার অ্যাট্রফি (PMA), প্রাইমারি ল্যাটারাল স্ক্লেরোসিস (PLS), স্পাইনাল মাসকুলার অ্যাট্রফি (SMA) এবং মোনোমেলাইক এমিয়োট্রফি (MMA), পাশাপাশি ALS এর মতো কিছু বিরল রূপও রয়েছে।\n",
       "\n",
       "## Portuguese Simplified\n",
       "\n",
       "Doenças do neurônio motor (DMN) são um grupo de doenças neurodegenerativas raras que afetam seletivamente os neurônios motores, as células que controlam os músculos voluntários do corpo. Elas incluem esclerose lateral amiotrófica (ELA), paralisia bulbar progressiva (PBP), paralisia pseudobulbar, atrofia muscular progressiva (PMA), esclerose lateral primária (PLS), atrofia muscular espinhal (SMA) e amiotrofia monomélica (MMA), bem como algumas variantes mais raras que se assemelham à ELA.\n",
       "\n",
       "## Russian Simplified\n",
       "\n",
       "Болезни двигательных нейронов (БДН) - это группа редких нейродегенеративных заболеваний, которые избирательно поражают двигательные нейроны, клетки, контролирующие произвольные мышцы тела. Они включают в себя боковой амиотрофический склероз (БАС), прогрессирующий бульбарный паралич (ПБП), псевдобульбарный паралич, прогрессирующую мышечную атрофию (ПМА), первичный латеральный склероз (ПЛС), спинальную мышечную атрофию (СМА) и мономелическую амиотрофию (ММА), а также некоторые более редкие варианты, напоминающие БАС.\n",
       "\n",
       "## Japanese Simplified\n",
       "\n",
       "運動ニューロン疾患（MND）は、身体の随意筋を制御する細胞である運動ニューロンを選択的に侵す、まれな神経変性疾患のグループです。これには、筋萎縮性側索硬化症（ALS）、進行性球麻痺（PBP）、偽球麻痺、進行性筋萎縮症（PMA）、原発性側索硬化症（PLS）、脊髄性筋萎縮症（SMA）、および単肢性筋萎縮症（MMA）などがあり、ALSに似たさらにまれな変異もあります。\n",
       "\n",
       "## Punjabi Simplified\n",
       "\n",
       "ਮੋਟਰ ਨਿਊਰੋਨ ਬਿਮਾਰੀਆਂ (MNDs) ਦੁਰਲੱਭ ਨਿਊਰੋਡੀਜਨਰੇਟਿਵ ਵਿਕਾਰਾਂ ਦਾ ਇੱਕ ਸਮੂਹ ਹਨ ਜੋ ਸਰੀਰ ਦੀਆਂ ਸਵੈਇੱਛਤ ਮਾਸਪੇਸ਼ੀਆਂ ਨੂੰ ਕੰਟਰੋਲ ਕਰਨ ਵਾਲੀਆਂ ਸੈੱਲਾਂ, ਮੋਟਰ ਨਿਊਰੋਨਾਂ ਨੂੰ ਚੁਣੌਤੀ ਦੇਣ ਵਾਲੇ ਪ੍ਰਭਾਵਿਤ ਕਰਦੇ ਹਨ। ਇਨ੍ਹਾਂ ਵਿੱਚ ਐਮੀਓਟ੍ਰੋਫਿਕ ਲੈਟਰਲ ਸਕਲੇਰੋਸਿਸ (ALS), ਪ੍ਰੋਗਰੈਸਿਵ ਬੁਲਬਰ ਪੈਰਾਲਿਸਿਸ (PBP), ਸਿਊਡੋਬੁਲਬਰ ਪੈਰਾਲਿਸਿਸ, ਪ੍ਰੋਗਰੈਸਿਵ ਮਸਕੂਲਰ ਐਟ੍ਰੋਫੀ (PMA), ਪ੍ਰਾਈਮਰੀ ਲੈਟਰਲ ਸਕਲੇਰੋਸਿਸ (PLS), ਸਪਾਈਨਲ ਮਸਕੂਲਰ ਐਟ੍ਰੋਫੀ (SMA) ਅਤੇ ਮੋਨੋਮੈਲਿਕ ਐਮੀਓਟ੍ਰੋਫੀ (MMA) ਸ਼ਾਮਲ ਹਨ, ਨਾਲ ਹੀ ALS ਵਰਗੀਆਂ ਕੁਝ ਹੋਰ ਦੁਰਲੱਭ ਕਿਸਮਾਂ ਵੀ ਸ਼ਾਮਲ ਹਨ। \n"
      ],
      "text/plain": [
       "<IPython.core.display.Markdown object>"
      ]
     },
     "metadata": {},
     "output_type": "display_data"
    }
   ],
   "source": [
    "from IPython.display import Markdown, display\n",
    "\n",
    "display(Markdown(output.replace('**\\n', '**<br>')))"
   ]
  },
  {
   "cell_type": "markdown",
   "id": "b5c82a4f-2ddf-42b1-b29a-8348e1e7b87a",
   "metadata": {
    "id": "b5c82a4f-2ddf-42b1-b29a-8348e1e7b87a"
   },
   "source": [
    "### Loading Wikipedia dataset\n",
    "\n",
    "* Load previously downloaded data as a pandas dataframe"
   ]
  },
  {
   "cell_type": "code",
   "execution_count": 5,
   "id": "811bcdfd-bf45-436b-b476-455eedeebe2f",
   "metadata": {
    "colab": {
     "base_uri": "https://localhost:8080/",
     "height": 300
    },
    "id": "811bcdfd-bf45-436b-b476-455eedeebe2f",
    "outputId": "238afbe4-b1ee-46e1-acce-2e165948a1cf"
   },
   "outputs": [],
   "source": [
    "import pandas as pd\n",
    "\n",
    "df = pd.read_csv(f'{data_dir}/Wikipedia_articles_cleaned.tsv', sep='\\t')"
   ]
  },
  {
   "cell_type": "markdown",
   "id": "f00424c9-73dd-4bb0-9a42-0d5a104d5cbe",
   "metadata": {
    "id": "f00424c9-73dd-4bb0-9a42-0d5a104d5cbe",
    "jp-MarkdownHeadingCollapsed": true
   },
   "source": [
    "### Generate in batches & parallel"
   ]
  },
  {
   "cell_type": "code",
   "execution_count": 13,
   "id": "0c3fd44d-a43a-4bf7-a52b-e330a86b84f0",
   "metadata": {
    "id": "0c3fd44d-a43a-4bf7-a52b-e330a86b84f0"
   },
   "outputs": [],
   "source": [
    "import importlib\n",
    "import os\n",
    "import re\n",
    "from time import sleep\n",
    "from typing import List, Tuple\n",
    "\n",
    "import numpy as np\n",
    "from google.api_core.exceptions import ResourceExhausted\n",
    "from joblib import Parallel, delayed\n",
    "from requests.exceptions import RequestException\n",
    "from tqdm import tqdm\n",
    "\n",
    "progress_bar = None\n",
    "data_dir = 'data'\n",
    "results_dir = 'results/markdown_wiki'\n",
    "RETRIES = 200 # Occasionally, the Gemini API can have glitches\n",
    "failures = list() # All failed inputs get stored here\n",
    "SAVE = True\n",
    "DEBUG = True # Displays errors\n",
    "\n",
    "REQUEST_TIMEOUT = 180 # If it takes longer than 3 minutes then timeout\n",
    "GEMINI_API_LIMIT = 1500\n",
    "GEMINI_MAX_OUT = 8196 # Maximum number of tokens that can be returned\n",
    "TOKEN_RETURN_RATIO = 16 # Approximate output tokens returned for input text\n",
    "\n",
    "if not os.path.exists(results_dir):\n",
    "    os.makedirs(results_dir)\n",
    "\n",
    "\n",
    "def get_model(api_key: str) -> genai.GenerativeModel:\n",
    "    '''Returns a model configured with the API key to be used for parallel requests.'''\n",
    "    module_name = 'google.generativeai'\n",
    "    _genai = importlib.import_module(module_name)\n",
    "    _genai.configure(api_key=api_key)\n",
    "    return _genai.GenerativeModel(\n",
    "        model_name=\"gemini-1.5-flash\",\n",
    "        safety_settings=safety_settings,\n",
    "        generation_config=generation_config,\n",
    "    )\n",
    "\n",
    "\n",
    "def save_batch(text: str) -> None:\n",
    "    matches = list(re.finditer(r\"#*\\s*Text ID (\\d+)\", text))\n",
    "    # Split the text based on Text ids\n",
    "    for i in range(len(matches)):\n",
    "        start = matches[i].start()\n",
    "        if i < len(matches) - 1:\n",
    "            end = matches[i + 1].start()\n",
    "        else:\n",
    "            end = len(text)\n",
    "        record_number = int(matches[i].group(1))\n",
    "\n",
    "        with open(f'{results_dir}/{record_number}.md', 'w') as fp:\n",
    "            fp.write(text[start:end].strip())\n",
    "\n",
    "\n",
    "def generate_and_save(batch: List[Tuple[int, str]]) -> None:\n",
    "    '''\n",
    "    Generates and stores simplified text for the\n",
    "    given batch using the Google Gemini Flash API.\n",
    "    Response can be in markdown format or sometimes as plain text.\n",
    "    '''\n",
    "    # Below instructions are used by the model to convert the description into a structured format\n",
    "    intro = f\"{len(batch)} biomedical literature texts are provided below which are difficult for a layperson to understand.\"\n",
    "    # Below instructions are used by the model to convert the description into a structured format\n",
    "    instructions = \"For each of the above texts, create a simplified English version of the text which can be understood by a native English layperson with no medical background. Put the section heading as English simplified. The output section should have 1 paragraphs corresponding to the input text.\\nNext, create an even more simpler version of the text which can be understood by a native English school kid with no medical background. Put the section heading as English super simplified. The output section should have 1 paragraphs corresponding to the input text.\\n\\nNext, created translated version of the simplified text in the following languages: Mandarin, followed by Spanish, followed by Arabic, followed by Hindi, followed by Bengali, followed by Portuguese, followed by Russian, followed by Japanese, followed by Punjabi\\nPut the section heading as Langauge name Simplified. The output section should have 1 paragraphs corresponding to the input text. If some English terms excluding acronyms and numbers can't be translated then transliterate them. Put the heading for each text as ## Text ID X, where X is the id of the text.\\n\\nLet the voice in simplified text be same as in the original text so that the person narrating appears consistent. If there any URL links present in the original text then retain them in the simplified text as well.\"\n",
    "    batch_description = '\\n\\n'.join([f'Text ID {i}: {desc}'.replace('\\n', ' ') for i, desc in batch])\n",
    "    \n",
    "    try:\n",
    "        response = model.generate_content(f\"{intro}\\n\\n{batch_description}\\n\\n{instructions}\", request_options={'timeout': REQUEST_TIMEOUT})\n",
    "\n",
    "        if SAVE:\n",
    "            save_batch(response.text)\n",
    "\n",
    "    except (RequestException, ValueError):\n",
    "        # For very long output the request can timeout\n",
    "        # For output containing unsafe text, ValueError is raised\n",
    "        if DEBUG:\n",
    "            print(f'Skipped the following indices for producing unsafe outputs:', [i for i, desc in batch])\n",
    "\n",
    "    except Exception as e:\n",
    "        global RETRIES\n",
    "        if RETRIES <= 0:\n",
    "            print(f\"Error for batch: {e}\")\n",
    "            failures.append(batch_description)\n",
    "        else:\n",
    "            RETRIES -= 1\n",
    "            if DEBUG:\n",
    "                print('Retries left:', RETRIES, f'| {type(e).__name__}')\n",
    "            sleep(10+RETRIES%10)\n",
    "            return generate_and_save(batch)\n",
    "\n",
    "    progress_bar.update(1)\n",
    "\n",
    "\n",
    "def batch_generate(descriptions: List[str], start_at: int = 0, n_jobs: int = 1) -> None:\n",
    "    '''\n",
    "    Generates and stores simplified medical text in batches and in parallel.\n",
    "    '''\n",
    "    tasks = list()\n",
    "\n",
    "    # Gemini has a max output limit of 8196, based on which we dynamically select the size of every batch.\n",
    "    i = start_at\n",
    "    while i < len(descriptions) and len(tasks)<GEMINI_API_LIMIT:\n",
    "        batch = []\n",
    "        num_words = 0\n",
    "        for j in range(i, len(descriptions)):\n",
    "            num_words += len(descriptions[j].split())\n",
    "            if j > i and num_words * TOKEN_RETURN_RATIO >= GEMINI_MAX_OUT:\n",
    "                break\n",
    "            batch.append((j, descriptions[j]))\n",
    "        tasks.append((batch,))\n",
    "        i += len(batch)\n",
    "\n",
    "    global progress_bar\n",
    "    progress_bar = tqdm(total=len(tasks))\n",
    "\n",
    "    Parallel(n_jobs=n_jobs, prefer='threads')(delayed(generate_and_save)(*task) for task in tasks)"
   ]
  },
  {
   "cell_type": "code",
   "execution_count": null,
   "id": "e265bd40-fdec-481f-ab07-cf639a03f6f6",
   "metadata": {
    "scrolled": true
   },
   "outputs": [
    {
     "name": "stderr",
     "output_type": "stream",
     "text": [
      "\n",
      "\n",
      "100%|██████████| 519/519 [6:11:28<00:00, 42.94s/it]\n"
     ]
    }
   ],
   "source": [
    "for i in range(3, 6):\n",
    "    model = get_model(os.environ[f'GEMINI_API_KEY_{i}'])\n",
    "    batch_generate(\n",
    "        descriptions = df['abstract'].tolist(), # Get all records\n",
    "        start_at = max([int(n.split('.')[0])+1 for n in os.listdir(results_dir) if '.md' in n], default=0), # Skip if previously mined\n",
    "        n_jobs = 8 # Adjust based on hardware and Gemini API per minute token rate limit\n",
    "    )\n",
    "    RETRIES = 200 # Reset the retries\n",
    "    sleep(1800)"
   ]
  },
  {
   "cell_type": "markdown",
   "id": "deb6b001-9373-4b7e-a4ce-1e786e2c90ba",
   "metadata": {},
   "source": [
    "### Reproduce missing records\n",
    "Some records got missed out due to glitches"
   ]
  },
  {
   "cell_type": "code",
   "execution_count": 6,
   "id": "4fe29190-08bd-4296-912f-19702a6c8555",
   "metadata": {},
   "outputs": [],
   "source": [
    "import os\n",
    "import markdown\n",
    "import pandas as pd\n",
    "from bs4 import BeautifulSoup\n",
    "from tqdm import tqdm\n",
    "\n",
    "\n",
    "def markdown_to_text(markdown_string):\n",
    "    html = markdown.markdown(markdown_string)\n",
    "    text = ''.join(BeautifulSoup(html, \"html.parser\").findAll(string=True))\n",
    "    return text\n",
    "\n",
    "\n",
    "def get_generated_record(index: int) -> str:\n",
    "    file_path = f'{results_dir}/{index}.md'\n",
    "    with open(file_path, 'r') as fp:\n",
    "        return fp.read()\n",
    "\n",
    "results_dir = 'results/markdown_wiki'\n",
    "data_dir = 'data'\n",
    "df = pd.read_csv(f'{data_dir}/Wikipedia_articles_cleaned.tsv', sep='\\t')\n",
    "abstracts = df['abstract'].tolist()\n",
    "gen_record_indices = [int(n.split('.')[0]) for n in os.listdir(results_dir) if '.md' in n]\n",
    "languages = [\n",
    "    'english simplified',\n",
    "    'english super simplified',\n",
    "    'mandarin simplified',\n",
    "    'spanish simplified',\n",
    "    'arabic simplified',\n",
    "    'hindi simplified',\n",
    "    'bengali simplified',\n",
    "    'portuguese simplified',\n",
    "    'russian simplified',\n",
    "    'japanese simplified',\n",
    "    'punjabi simplified'\n",
    "]"
   ]
  },
  {
   "cell_type": "code",
   "execution_count": 7,
   "id": "7dddd8c3-5b0a-459a-b64f-6db42ca0cd64",
   "metadata": {},
   "outputs": [
    {
     "data": {
      "text/html": [
       "<div>\n",
       "<style scoped>\n",
       "    .dataframe tbody tr th:only-of-type {\n",
       "        vertical-align: middle;\n",
       "    }\n",
       "\n",
       "    .dataframe tbody tr th {\n",
       "        vertical-align: top;\n",
       "    }\n",
       "\n",
       "    .dataframe thead th {\n",
       "        text-align: right;\n",
       "    }\n",
       "</style>\n",
       "<table border=\"1\" class=\"dataframe\">\n",
       "  <thead>\n",
       "    <tr style=\"text-align: right;\">\n",
       "      <th></th>\n",
       "      <th>#words</th>\n",
       "    </tr>\n",
       "  </thead>\n",
       "  <tbody>\n",
       "    <tr>\n",
       "      <th>count</th>\n",
       "      <td>38430.000000</td>\n",
       "    </tr>\n",
       "    <tr>\n",
       "      <th>mean</th>\n",
       "      <td>76.291543</td>\n",
       "    </tr>\n",
       "    <tr>\n",
       "      <th>std</th>\n",
       "      <td>63.973502</td>\n",
       "    </tr>\n",
       "    <tr>\n",
       "      <th>min</th>\n",
       "      <td>1.000000</td>\n",
       "    </tr>\n",
       "    <tr>\n",
       "      <th>25%</th>\n",
       "      <td>34.000000</td>\n",
       "    </tr>\n",
       "    <tr>\n",
       "      <th>50%</th>\n",
       "      <td>61.000000</td>\n",
       "    </tr>\n",
       "    <tr>\n",
       "      <th>75%</th>\n",
       "      <td>99.000000</td>\n",
       "    </tr>\n",
       "    <tr>\n",
       "      <th>max</th>\n",
       "      <td>1007.000000</td>\n",
       "    </tr>\n",
       "  </tbody>\n",
       "</table>\n",
       "</div>"
      ],
      "text/plain": [
       "             #words\n",
       "count  38430.000000\n",
       "mean      76.291543\n",
       "std       63.973502\n",
       "min        1.000000\n",
       "25%       34.000000\n",
       "50%       61.000000\n",
       "75%       99.000000\n",
       "max     1007.000000"
      ]
     },
     "execution_count": 7,
     "metadata": {},
     "output_type": "execute_result"
    }
   ],
   "source": [
    "df['#words'] = [len(a.strip().split(' ')) for a in df['abstract'].tolist()]\n",
    "df.describe()"
   ]
  },
  {
   "cell_type": "code",
   "execution_count": 8,
   "id": "368061fb-9ce5-4979-a0d1-dd708d06ea3f",
   "metadata": {},
   "outputs": [
    {
     "name": "stderr",
     "output_type": "stream",
     "text": [
      "100%|██████████| 32161/32161 [00:01<00:00, 22579.60it/s]\n"
     ]
    }
   ],
   "source": [
    "processed_records = list()\n",
    "failures = list() # Unsafe outputs\n",
    "\n",
    "for index in tqdm(gen_record_indices):\n",
    "    md = get_generated_record(index)\n",
    "    sections = markdown_to_text(md).split('\\n')\n",
    "    json = {'original': abstracts[index]}\n",
    "    i = 1\n",
    "    while i < len(sections)-1:\n",
    "        lang = sections[i].lower().strip()\n",
    "        if not lang in languages:\n",
    "            break\n",
    "        else:\n",
    "            # Handle both single para and multi-para\n",
    "            next_i = i+2\n",
    "            while next_i < len(sections):\n",
    "                section = sections[next_i].lower().strip()\n",
    "                if section in languages:\n",
    "                    break\n",
    "                else:\n",
    "                    next_i += 1\n",
    "            # Sometimes the generated text contains duplicate sections\n",
    "            if lang not in json:\n",
    "                section_text = ' '.join(section.strip() for section in sections[i+1:next_i])\n",
    "                json[lang] = section_text\n",
    "            i = next_i\n",
    "\n",
    "    json['languages present'] = len(json) - 2\n",
    "    if json['languages present'] > 0:\n",
    "        processed_records.append(json)\n",
    "    else:\n",
    "        failures.append(index)"
   ]
  },
  {
   "cell_type": "code",
   "execution_count": 9,
   "id": "8133e5ef-f628-4082-bae1-26a891cc8ddd",
   "metadata": {},
   "outputs": [
    {
     "name": "stdout",
     "output_type": "stream",
     "text": [
      "Number of records missing: 6343\n"
     ]
    }
   ],
   "source": [
    "missing_records = [index for index in range(len(abstracts)) if index not in gen_record_indices or index in failures]\n",
    "print(f'Number of records missing: {len(missing_records)}')"
   ]
  },
  {
   "cell_type": "code",
   "execution_count": 20,
   "id": "eddb84b0-f357-4e88-bc51-7babf39cccf8",
   "metadata": {},
   "outputs": [
    {
     "name": "stderr",
     "output_type": "stream",
     "text": [
      "  0%|          | 0/3 [00:39<?, ?it/s]\n"
     ]
    }
   ],
   "source": [
    "import importlib\n",
    "import os\n",
    "import re\n",
    "from time import sleep\n",
    "from typing import List, Tuple\n",
    "\n",
    "import numpy as np\n",
    "from google.api_core.exceptions import ResourceExhausted\n",
    "from joblib import Parallel, delayed\n",
    "from requests.exceptions import RequestException\n",
    "from tqdm import tqdm\n",
    "\n",
    "progress_bar = None\n",
    "data_dir = 'data'\n",
    "results_dir = 'results/markdown_wiki'\n",
    "RETRIES = 200 # Occasionally, the Gemini API can have glitches\n",
    "failures = list() # All failed inputs get stored here\n",
    "SAVE = True\n",
    "DEBUG = True # Displays errors\n",
    "\n",
    "REQUEST_TIMEOUT = 180 # If it takes longer than 3 minutes then timeout\n",
    "GEMINI_API_LIMIT = 1500\n",
    "GEMINI_MAX_OUT = 8196 # Maximum number of tokens that can be returned\n",
    "TOKEN_RETURN_RATIO = 16 # Approximate output tokens returned for input text\n",
    "\n",
    "if not os.path.exists(results_dir):\n",
    "    os.makedirs(results_dir)\n",
    "\n",
    "\n",
    "def get_model(api_key: str) -> genai.GenerativeModel:\n",
    "    '''Returns a model configured with the API key to be used for parallel requests.'''\n",
    "    module_name = 'google.generativeai'\n",
    "    _genai = importlib.import_module(module_name)\n",
    "    _genai.configure(api_key=api_key)\n",
    "    return _genai.GenerativeModel(\n",
    "        model_name=\"gemini-1.5-flash\",\n",
    "        safety_settings=safety_settings,\n",
    "        generation_config=generation_config,\n",
    "    )\n",
    "\n",
    "\n",
    "def save_batch(text: str) -> None:\n",
    "    matches = list(re.finditer(r\"#*\\s*Text ID (\\d+)\", text))\n",
    "    # Split the text based on Text ids\n",
    "    for i in range(len(matches)):\n",
    "        start = matches[i].start()\n",
    "        if i < len(matches) - 1:\n",
    "            end = matches[i + 1].start()\n",
    "        else:\n",
    "            end = len(text)\n",
    "        record_number = int(matches[i].group(1))\n",
    "\n",
    "        with open(f'{results_dir}/{record_number}.md', 'w') as fp:\n",
    "            fp.write(text[start:end].strip())\n",
    "\n",
    "\n",
    "def generate_and_save(batch: List[Tuple[int, str]]) -> None:\n",
    "    '''\n",
    "    Generates and stores simplified text for the\n",
    "    given batch using the Google Gemini Flash API.\n",
    "    Response can be in markdown format or sometimes as plain text.\n",
    "    '''\n",
    "    # Below instructions are used by the model to convert the description into a structured format\n",
    "    intro = f\"{len(batch)} biomedical literature texts are provided below which are difficult for a layperson to understand.\"\n",
    "    # Below instructions are used by the model to convert the description into a structured format\n",
    "    instructions = \"For each of the above texts, create a simplified English version of the text which can be understood by a native English layperson with no medical background. Put the section heading as English simplified. The output section should have 1 paragraphs corresponding to the input text.\\nNext, create an even more simpler version of the text which can be understood by a native English school kid with no medical background. Put the section heading as English super simplified. The output section should have 1 paragraphs corresponding to the input text.\\n\\nNext, created translated version of the simplified text in the following languages: Mandarin, followed by Spanish, followed by Arabic, followed by Hindi, followed by Bengali, followed by Portuguese, followed by Russian, followed by Japanese, followed by Punjabi\\nPut the section heading as Langauge name Simplified. The output section should have 1 paragraphs corresponding to the input text. If some English terms excluding acronyms and numbers can't be translated then transliterate them. Put the heading for each text as ## Text ID X, where X is the id of the text.\\n\\nLet the voice in simplified text be same as in the original text so that the person narrating appears consistent. If there any URL links present in the original text then retain them in the simplified text as well.\"\n",
    "    batch_description = '\\n\\n'.join([f'Text ID {i}: {desc}'.replace('\\n', ' ') for i, desc in batch])\n",
    "    \n",
    "    try:\n",
    "        response = model.generate_content(f\"{intro}\\n\\n{batch_description}\\n\\n{instructions}\", request_options={'timeout': REQUEST_TIMEOUT})\n",
    "\n",
    "        if SAVE:\n",
    "            save_batch(response.text)\n",
    "\n",
    "    except (RequestException, ValueError):\n",
    "        # For very long output the request can timeout\n",
    "        # For output containing unsafe text, ValueError is raised\n",
    "        if DEBUG:\n",
    "            print(f'Skipped the following indices for producing unsafe outputs:', [i for i, desc in batch])\n",
    "\n",
    "    except Exception as e:\n",
    "        global RETRIES\n",
    "        if RETRIES <= 0:\n",
    "            print(f\"Error for batch: {e}\")\n",
    "            failures.append(batch_description)\n",
    "        else:\n",
    "            RETRIES -= 1\n",
    "            if DEBUG:\n",
    "                print('Retries left:', RETRIES, f'| {type(e).__name__}')\n",
    "            sleep(10+RETRIES%10)\n",
    "            return generate_and_save(batch)\n",
    "\n",
    "    progress_bar.update(1)\n",
    "\n",
    "\n",
    "def batch_generate(descriptions: List[str], start_at: int = 0, n_jobs: int = 1) -> None:\n",
    "    '''\n",
    "    Generates and stores simplified medical text in batches and in parallel.\n",
    "    '''\n",
    "    tasks = list()\n",
    "\n",
    "    # Gemini has a max output limit of 8196, based on which we dynamically select the size of every batch.\n",
    "    i = start_at\n",
    "    while i < len(descriptions) and len(tasks)<GEMINI_API_LIMIT:\n",
    "        batch = []\n",
    "        num_words = 0\n",
    "        for j in range(i, len(descriptions)):\n",
    "            if j in missing_records:\n",
    "                num_words += len(descriptions[j].split())\n",
    "                if len(batch) > 1 and num_words * TOKEN_RETURN_RATIO >= GEMINI_MAX_OUT:\n",
    "                    break\n",
    "                batch.append((j, descriptions[j]))\n",
    "        if not batch: break\n",
    "        tasks.append((batch,))\n",
    "        i = j\n",
    "    global progress_bar\n",
    "    progress_bar = tqdm(total=len(tasks))\n",
    "\n",
    "    Parallel(n_jobs=n_jobs, prefer='threads')(delayed(generate_and_save)(*task) for task in tasks)"
   ]
  },
  {
   "cell_type": "code",
   "execution_count": 21,
   "id": "0e971baa-bbbe-4817-a099-c4025c9aeddf",
   "metadata": {
    "scrolled": true
   },
   "outputs": [
    {
     "name": "stderr",
     "output_type": "stream",
     "text": [
      "100%|██████████| 3/3 [01:01<00:00, 18.58s/it]"
     ]
    }
   ],
   "source": [
    "model = get_model(os.environ[f'GEMINI_API_KEY'])\n",
    "batch_generate(\n",
    "    descriptions = df['abstract'].tolist(), # Get all records\n",
    "    start_at = 0, # Skip if previously mined\n",
    "    n_jobs = 8 # Adjust based on hardware and Gemini API per minute token rate limit\n",
    ")"
   ]
  },
  {
   "cell_type": "code",
   "execution_count": null,
   "id": "7c3de2d8-b2d2-4417-9283-bae3595ebbd2",
   "metadata": {},
   "outputs": [],
   "source": []
  }
 ],
 "metadata": {
  "colab": {
   "provenance": []
  },
  "kernelspec": {
   "display_name": "Python 3 (ipykernel)",
   "language": "python",
   "name": "python3"
  },
  "language_info": {
   "codemirror_mode": {
    "name": "ipython",
    "version": 3
   },
   "file_extension": ".py",
   "mimetype": "text/x-python",
   "name": "python",
   "nbconvert_exporter": "python",
   "pygments_lexer": "ipython3",
   "version": "3.11.6"
  },
  "widgets": {
   "application/vnd.jupyter.widget-state+json": {
    "state": {},
    "version_major": 2,
    "version_minor": 0
   }
  }
 },
 "nbformat": 4,
 "nbformat_minor": 5
}
