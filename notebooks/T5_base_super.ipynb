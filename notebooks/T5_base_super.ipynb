{
 "cells": [
  {
   "cell_type": "markdown",
   "metadata": {},
   "source": [
    "# Text simplifcation model\n",
    "**Credits**: This work has been adapted from the example code provided in the `Transformers` library released under the `Apache license`."
   ]
  },
  {
   "cell_type": "code",
   "execution_count": null,
   "metadata": {
    "colab": {
     "base_uri": "https://localhost:8080/"
    },
    "id": "MOsHUjgdIrIW",
    "outputId": "03b3106e-6f5e-4e79-c829-f8773a4ad05f"
   },
   "outputs": [],
   "source": [
    "# ! pip install -q datasets evaluate rouge-score nltk transformers==4.30 sentencepiece # set to previous version due to error which says evaluate not found"
   ]
  },
  {
   "cell_type": "markdown",
   "metadata": {
    "id": "rEJBSTyZIrIb"
   },
   "source": [
    "## Fine-tuning T5-base model"
   ]
  },
  {
   "cell_type": "code",
   "execution_count": null,
   "metadata": {
    "id": "Nt4D7zPHd4yw"
   },
   "outputs": [],
   "source": [
    "import os\n",
    "\n",
    "model_name = \"t5-base\"\n",
    "model_dir = f\"{model_name.replace('/', '-')}-super-checkpoints\"\n",
    "\n",
    "# Check if model directory exists and is not empty\n",
    "if os.path.exists(model_dir) and any([item.startswith('checkpoint-') for item in os.listdir(model_dir)]):\n",
    "    model_checkpoint = os.path.join(model_dir, os.listdir(model_dir)[-1])\n",
    "else:\n",
    "    model_checkpoint = model_name"
   ]
  },
  {
   "cell_type": "markdown",
   "metadata": {
    "id": "whPRbBNbIrIl"
   },
   "source": [
    "## Loading the dataset"
   ]
  },
  {
   "cell_type": "markdown",
   "metadata": {
    "id": "W7QYTpxXIrIl"
   },
   "source": [
    "We will use the [Datasets](https://github.com/huggingface/datasets) library to process our data and use the [Evaluate](https://github.com/huggingface/evaluate) get the metric we need to use for evaluation."
   ]
  },
  {
   "cell_type": "code",
   "execution_count": null,
   "metadata": {
    "id": "IreSlFmlIrIm"
   },
   "outputs": [],
   "source": [
    "from datasets import load_dataset\n",
    "\n",
    "data_dir = f'{parent_dir}/data'\n",
    "raw_datasets = load_dataset(\"csv\", data_files=f'{data_dir}/data.tsv', delimiter='\\t')\n",
    "\n",
    "all_columns = raw_datasets.column_names['train']\n",
    "required_columns = ['original', 'english super simplified']\n",
    "unrequired_columns = [col for col in all_columns if col not in required_columns]\n",
    "original_col = required_columns[0]\n",
    "target_col = required_columns[-1]\n",
    "\n",
    "# Remove unrequired columns\n",
    "raw_datasets['train'] = raw_datasets['train'].remove_columns(unrequired_columns)\n",
    "\n",
    "# Filter out rows where 'english super simplified' is None\n",
    "raw_datasets['train'] = raw_datasets['train'].filter(lambda example: example['english super simplified'] is not None)"
   ]
  },
  {
   "cell_type": "markdown",
   "metadata": {
    "id": "RzfPtOMoIrIu"
   },
   "source": [
    "The `dataset` object itself is [`DatasetDict`](https://huggingface.co/docs/datasets/package_reference/main_classes.html#datasetdict), which contains one key for the training, validation and test set:"
   ]
  },
  {
   "cell_type": "code",
   "execution_count": null,
   "metadata": {
    "scrolled": true
   },
   "outputs": [],
   "source": [
    "raw_datasets[\"train\"][0]"
   ]
  },
  {
   "cell_type": "markdown",
   "metadata": {
    "id": "meFMYGPrbkwp",
    "jp-MarkdownHeadingCollapsed": true
   },
   "source": [
    "## Dataset train/validation/test split\n",
    "\n",
    "We split the dataset in the below ratio:\n",
    "- Training set: 99%\n",
    "- Validation set: 0.5%\n",
    "- Test set: 0.5%"
   ]
  },
  {
   "cell_type": "code",
   "execution_count": null,
   "metadata": {
    "colab": {
     "base_uri": "https://localhost:8080/"
    },
    "id": "FPsvfzq-uAKc",
    "outputId": "113d334c-937b-49bd-9e6a-bd628f58cec4"
   },
   "outputs": [],
   "source": [
    "# Calculate sizes for train, validation, and test sets\n",
    "total_n = raw_datasets['train'].num_rows\n",
    "split_n = int(0.005 * total_n)\n",
    "\n",
    "# Define indices for train, validation, and test splits\n",
    "train_indices = list(range(total_n - 2 * split_n))\n",
    "validation_indices = list(range(total_n - 2 * split_n, total_n - split_n))\n",
    "test_indices = list(range(total_n - split_n, total_n))\n",
    "\n",
    "# Perform rigid train-validation-test split\n",
    "raw_datasets[\"validation\"] = raw_datasets[\"train\"].select(indices=validation_indices).shuffle(seed=42)\n",
    "raw_datasets[\"test\"] = raw_datasets[\"train\"].select(indices=test_indices).shuffle(seed=42)\n",
    "raw_datasets[\"train\"] = raw_datasets[\"train\"].select(indices=train_indices).shuffle(seed=42)\n",
    "\n",
    "# Display raw_datasets to verify the splits\n",
    "print(raw_datasets)\n",
    "\n",
    "# used later for tokenization\n",
    "max_input_length = 512\n",
    "max_target_length = 512"
   ]
  },
  {
   "cell_type": "code",
   "execution_count": null,
   "metadata": {
    "colab": {
     "base_uri": "https://localhost:8080/"
    },
    "id": "xYW2j-_l4FwR",
    "outputId": "681449c4-45e1-4d7e-df8f-44a34a74251b"
   },
   "outputs": [],
   "source": [
    "# # keep only a subsample of the datasets\n",
    "# raw_datasets[\"train\"] = raw_datasets[\"train\"].select(range(10))\n",
    "# raw_datasets[\"validation\"] = raw_datasets[\"validation\"].select(range(1))\n",
    "# raw_datasets[\"test\"] = raw_datasets[\"test\"].select(range(1))\n",
    "\n",
    "# raw_datasets"
   ]
  },
  {
   "cell_type": "markdown",
   "metadata": {
    "id": "WHUmphG3IrI3"
   },
   "source": [
    "To get a sense of what the data looks like, the following function will show some examples picked randomly in the dataset."
   ]
  },
  {
   "cell_type": "code",
   "execution_count": null,
   "metadata": {
    "id": "i3j8APAoIrI3"
   },
   "outputs": [],
   "source": [
    "import datasets\n",
    "import random\n",
    "import pandas as pd\n",
    "from IPython.display import display, HTML\n",
    "\n",
    "def show_random_elements(dataset, num_examples=5):\n",
    "    assert num_examples <= len(dataset), \"Can't pick more elements than there are in the dataset.\"\n",
    "    picks = []\n",
    "    for _ in range(num_examples):\n",
    "        pick = random.randint(0, len(dataset)-1)\n",
    "        while pick in picks:\n",
    "            pick = random.randint(0, len(dataset)-1)\n",
    "        picks.append(pick)\n",
    "\n",
    "    df = pd.DataFrame(dataset[picks])\n",
    "    for column, typ in dataset.features.items():\n",
    "        if isinstance(typ, datasets.ClassLabel):\n",
    "            df[column] = df[column].transform(lambda i: typ.names[i])\n",
    "    display(HTML(df.to_html()))"
   ]
  },
  {
   "cell_type": "code",
   "execution_count": null,
   "metadata": {
    "colab": {
     "base_uri": "https://localhost:8080/",
     "height": 483
    },
    "id": "SZy5tRB_IrI7",
    "outputId": "3181ebf3-bcb9-4f75-c1b8-de6fb89e01b3",
    "scrolled": true
   },
   "outputs": [],
   "source": [
    "show_random_elements(raw_datasets[\"train\"])"
   ]
  },
  {
   "cell_type": "markdown",
   "metadata": {
    "id": "n9qywopnIrJH"
   },
   "source": [
    "## Preprocessing the data"
   ]
  },
  {
   "cell_type": "markdown",
   "metadata": {
    "id": "YVx71GdAIrJH"
   },
   "source": [
    "Before we can feed those texts to our model, we need to preprocess them. This is done by a 🤗 Transformers `Tokenizer` which will (as the name indicates) tokenize the inputs (including converting the tokens to their corresponding IDs in the pretrained vocabulary) and put it in a format the model expects, as well as generate the other inputs that the model requires.\n",
    "\n",
    "To do all of this, we instantiate our tokenizer with the `AutoTokenizer.from_pretrained` method, which will ensure:\n",
    "\n",
    "- we get a tokenizer that corresponds to the model architecture we want to use,\n",
    "- we download the vocabulary used when pretraining this specific checkpoint.\n",
    "\n",
    "That vocabulary will be cached, so it's not downloaded again the next time we run the cell."
   ]
  },
  {
   "cell_type": "code",
   "execution_count": null,
   "metadata": {
    "colab": {
     "base_uri": "https://localhost:8080/"
    },
    "id": "eXNLu_-nIrJI",
    "outputId": "e0879053-849b-4602-bfc4-f4bd576e4a4c"
   },
   "outputs": [],
   "source": [
    "from transformers import AutoTokenizer\n",
    "\n",
    "tokenizer = AutoTokenizer.from_pretrained(model_name)"
   ]
  },
  {
   "cell_type": "markdown",
   "metadata": {
    "id": "Vl6IidfdIrJK"
   },
   "source": [
    "By default, the call above will use one of the fast tokenizers (backed by Rust) from the 🤗 Tokenizers library."
   ]
  },
  {
   "cell_type": "markdown",
   "metadata": {
    "id": "rowT4iCLIrJK"
   },
   "source": [
    "You can directly call this tokenizer on one sentence or a pair of sentences:"
   ]
  },
  {
   "cell_type": "code",
   "execution_count": null,
   "metadata": {
    "colab": {
     "base_uri": "https://localhost:8080/"
    },
    "id": "a5hBlsrHIrJL",
    "outputId": "1cc2336f-6682-4075-c7ea-66fd96b06000"
   },
   "outputs": [],
   "source": [
    "tokenizer(\"Hello, this one sentence!\")"
   ]
  },
  {
   "cell_type": "markdown",
   "metadata": {
    "id": "Crrhs4L1d4y0"
   },
   "source": [
    "To prepare the targets for our model, we need to tokenize them using the `text_target` parameter. This will make sure the tokenizer uses the special tokens corresponding to the targets:"
   ]
  },
  {
   "cell_type": "code",
   "execution_count": null,
   "metadata": {
    "colab": {
     "base_uri": "https://localhost:8080/"
    },
    "id": "JoACve6yd4y0",
    "outputId": "91124216-e2ac-41de-c1b1-fc69e757d825"
   },
   "outputs": [],
   "source": [
    "print(tokenizer(text_target=[\"Hello, this one sentence!\", \"This is another sentence.\"]))"
   ]
  },
  {
   "cell_type": "markdown",
   "metadata": {
    "id": "s0VyrvZnd4y5"
   },
   "source": [
    "We can then write the function that will preprocess our samples. We just feed them to the `tokenizer` with the argument `truncation=True`. This will ensure that an input longer that what the model selected can handle will be truncated to the maximum length accepted by the model. The padding will be dealt with later on (in a data collator) so we pad examples to the longest length in the batch and not the whole dataset."
   ]
  },
  {
   "cell_type": "code",
   "execution_count": null,
   "metadata": {
    "id": "vc0BSBLIIrJQ"
   },
   "outputs": [],
   "source": [
    "def preprocess_function(examples):\n",
    "    inputs = [f'summarization: {original}' for original in examples[original_col]]\n",
    "    model_inputs = tokenizer(inputs, max_length=max_input_length, truncation=True)\n",
    "\n",
    "    # Setup the tokenizer for targets\n",
    "    labels = tokenizer(text_target=examples[target_col], max_length=max_target_length, truncation=True)\n",
    "\n",
    "    model_inputs[\"labels\"] = labels[\"input_ids\"]\n",
    "    return model_inputs"
   ]
  },
  {
   "cell_type": "markdown",
   "metadata": {
    "id": "0lm8ozrJIrJR"
   },
   "source": [
    "This function works with one or several examples. In the case of several examples, the tokenizer will return a list of lists for each key:"
   ]
  },
  {
   "cell_type": "markdown",
   "metadata": {
    "id": "zS-6iXTkIrJT"
   },
   "source": [
    "To apply this function on all the pairs of sentences in our dataset, we just use the `map` method of our `dataset` object we created earlier. This will apply the function on all the elements of all the splits in `dataset`, so our training, validation and testing data will be preprocessed in one single command."
   ]
  },
  {
   "cell_type": "code",
   "execution_count": null,
   "metadata": {
    "colab": {
     "base_uri": "https://localhost:8080/",
     "height": 113,
     "referenced_widgets": [
      "d8ea0cd62d974baf97a8b42fa97aaecb",
      "f513b781f17740e1895a3528ad2a1354",
      "c43ab8103fe84bbfb0322b816a68522b",
      "dc252cd58362422591ba3b5e68e9b40a",
      "d09a7418364a489bb66c2ba8f11cbe56",
      "2fe46ae51f9b4a2ba259d59d41d647d8",
      "a2128e92206d4ed0a34766c30051cf33",
      "9f546ffff89e48b9829ab6745a1c0430",
      "e3af4defe97b46bf9956b8e60f40d919",
      "1fb00823e5d44ac7bbcdb6d7dde6ff27",
      "88732ac2fea5451c98e235f8172ce737",
      "12726e56158f4e71b4c520365f9ab077",
      "c3d809ee4fd6495b928fb69a4002c6db",
      "bba103a9c9c544f589b137ccd82c9bca",
      "93f1ec3d4f1b4c8a8015a80128f3c9cc",
      "db33b1be26d049198babab7b3553c05c",
      "f0a8d3f73f474ca18db270f3325563cb",
      "59798a461447466d95d8611ea8d4c8d6",
      "123fb6b28aec4682a36f51736abf1bb9",
      "b1f075b2b2a04221a7eea8a856d49b85",
      "6c77cbe51a5b4b1e871651f333f4008b",
      "804f24fbbb224a60b0d8e84ece6a93e1",
      "fc8a91ee91414568941623e8c47b92cd",
      "73c616b99f4e4f5aacb399b36223627f",
      "fbbd2ac6e10a4f7bbbfb5adef28c436a",
      "a9205ce13e164ce0b964561e01655046",
      "cd60ce2d06944113a9e30799045a8050",
      "343536b24ff84693aee8846808cf85bb",
      "e01c2e8fc1e5452285ba35674616cdfc",
      "a5c21df41b704d6ba6b18ec3ecec7ad9",
      "c07c84533b154ccb917f327e8d1c2cf5",
      "e0cc259efdd5413c8ba5348011bc4678",
      "eec42aa718174275b1a92c76977c2a46"
     ]
    },
    "id": "DDtsaJeVIrJT",
    "outputId": "589d1fbe-868e-4648-faf1-505eece08602"
   },
   "outputs": [],
   "source": [
    "tokenized_datasets = raw_datasets.map(preprocess_function, batched=True)\n",
    "# tokenized_datasets = tokenized_datasets.filter(lambda example: len(example['labels']) < max_target_length)\n",
    "tokenized_datasets_reduced = tokenized_datasets.filter(lambda example: len(example['labels']) > 5 and len(example['labels']) < 256)"
   ]
  },
  {
   "cell_type": "code",
   "execution_count": null,
   "metadata": {},
   "outputs": [],
   "source": [
    "# Save tokenized_datasets to disk as it is time-consuming to tokenize\n",
    "tokenized_datasets_reduced.save_to_disk(f'{data_dir}/tokenized_datasets_reduced_en_super')"
   ]
  },
  {
   "cell_type": "markdown",
   "metadata": {},
   "source": [
    "**We observe that our reduced dataset with only 256 tokens are sufficient to cover most records as below.**\n",
    "\n",
    "This was done to save memory and improve training speed.\n",
    "* 62.7k / 63.7k (98.4%)"
   ]
  },
  {
   "cell_type": "code",
   "execution_count": null,
   "metadata": {},
   "outputs": [],
   "source": [
    "import pandas as pd\n",
    "\n",
    "df = pd.Series([len(label) for label in tokenized_datasets_reduced['train']['labels']])\n",
    "df.describe()"
   ]
  },
  {
   "cell_type": "markdown",
   "metadata": {
    "id": "voWiw8C7IrJV"
   },
   "source": [
    "Even better, the results are automatically cached by the 🤗 Datasets library to avoid spending time on this step the next time you run your notebook. The 🤗 Datasets library is normally smart enough to detect when the function you pass to map has changed (and thus requires to not use the cache data). For instance, it will properly detect if you change the task in the first cell and rerun the notebook. 🤗 Datasets warns you when it uses cached files, you can pass `load_from_cache_file=False` in the call to `map` to not use the cached files and force the preprocessing to be applied again.\n",
    "\n",
    "Note that we passed `batched=True` to encode the texts by batches together. This is to leverage the full benefit of the fast tokenizer we loaded earlier, which will use multi-threading to treat the texts in a batch concurrently."
   ]
  },
  {
   "cell_type": "markdown",
   "metadata": {
    "id": "545PP3o8IrJV"
   },
   "source": [
    "## Fine-tuning the model"
   ]
  },
  {
   "cell_type": "code",
   "execution_count": null,
   "metadata": {},
   "outputs": [],
   "source": [
    "from datasets import load_from_disk\n",
    "from transformers import AutoTokenizer, AutoModelForSeq2SeqLM, DataCollatorForSeq2Seq, Seq2SeqTrainingArguments, Seq2SeqTrainer\n",
    "\n",
    "tokenizer = AutoTokenizer.from_pretrained(model_name)\n",
    "tokenized_datasets = load_from_disk(f'{data_dir}/tokenized_datasets_reduced_en_super') # Load tokenized_datasets from disk\n",
    "model = AutoModelForSeq2SeqLM.from_pretrained(model_checkpoint)\n",
    "data_collator = DataCollatorForSeq2Seq(tokenizer, model=model)"
   ]
  },
  {
   "cell_type": "markdown",
   "metadata": {
    "id": "FBiW8UpKIrJW"
   },
   "source": [
    "Now that our data is ready, we can download the pretrained model and fine-tune it. Since our task is of the sequence-to-sequence kind, we use the `AutoModelForSeq2SeqLM` class. Like with the tokenizer, the `from_pretrained` method will download and cache the model for us."
   ]
  },
  {
   "cell_type": "markdown",
   "metadata": {
    "id": "CczA5lJlIrJX"
   },
   "source": [
    "Note that  we don't get a warning like in our classification example. This means we used all the weights of the pretrained model and there is no randomly initialized head in this case."
   ]
  },
  {
   "cell_type": "markdown",
   "metadata": {
    "id": "_N8urzhyIrJY"
   },
   "source": [
    "To instantiate a `Seq2SeqTrainer`, we will need to define three more things. The most important is the [`Seq2SeqTrainingArguments`](https://huggingface.co/transformers/main_classes/trainer.html#transformers.Seq2SeqTrainingArguments), which is a class that contains all the attributes to customize the training. It requires one folder name, which will be used to save the checkpoints of the model, and all other arguments are optional:"
   ]
  },
  {
   "cell_type": "markdown",
   "metadata": {
    "id": "km3pGVdTIrJc"
   },
   "source": [
    "Here we set the evaluation to be done at the end of each epoch, tweak the learning rate, use the `batch_size` defined at the top of the cell and customize the weight decay. Since the `Seq2SeqTrainer` will save the model regularly and our dataset is quite large, we tell it to make three saves maximum. Lastly, we use the `predict_with_generate` option (to properly generate summaries) and activate mixed precision training (to go a bit faster).\n",
    "\n",
    "The last argument to setup everything so we can push the model to the [Hub](https://huggingface.co/models) regularly during training. Remove it if you didn't follow the installation steps at the top of the notebook. If you want to save your model locally in a name that is different than the name of the repository it will be pushed, or if you want to push your model under an organization and not your name space, use the `hub_model_id` argument to set the repo name (it needs to be the full name, including your namespace: for instance `\"sgugger/t5-finetuned-xsum\"` or `\"huggingface/t5-finetuned-xsum\"`).\n",
    "\n",
    "Then, we need a special kind of data collator, which will not only pad the inputs to the maximum length in the batch, but also the labels:"
   ]
  },
  {
   "cell_type": "markdown",
   "metadata": {
    "id": "7sZOdRlRIrJd"
   },
   "source": [
    "The last thing to define for our `Seq2SeqTrainer` is how to compute the metrics from the predictions. We need to define a function for this, which will just use the `metric` we loaded earlier, and we have to do a bit of pre-processing to decode the predictions into texts:"
   ]
  },
  {
   "cell_type": "code",
   "execution_count": null,
   "metadata": {
    "colab": {
     "base_uri": "https://localhost:8080/"
    },
    "id": "UmvbnJ9JIrJd",
    "outputId": "b97f3b69-8f8e-4de8-9a82-62d1e8342d01"
   },
   "outputs": [],
   "source": [
    "import numpy as np\n",
    "import evaluate\n",
    "\n",
    "rouge = evaluate.load(\"rouge\")\n",
    "\n",
    "def compute_metrics(eval_pred):\n",
    "    predictions, labels = eval_pred\n",
    "    predictions = np.where(predictions != -100, predictions, tokenizer.pad_token_id)\n",
    "    labels = np.where(labels != -100, labels, tokenizer.pad_token_id)\n",
    "    decoded_preds = tokenizer.batch_decode(predictions, skip_special_tokens=True)\n",
    "    decoded_labels = tokenizer.batch_decode(labels, skip_special_tokens=True)\n",
    "\n",
    "    result = rouge.compute(predictions=decoded_preds, references=decoded_labels, use_stemmer=True)\n",
    "\n",
    "    prediction_lens = [np.count_nonzero(pred != tokenizer.pad_token_id) for pred in predictions]\n",
    "    result[\"gen_len\"] = np.mean(prediction_lens)\n",
    "\n",
    "    return {k: round(v, 4) for k, v in result.items()}"
   ]
  },
  {
   "cell_type": "markdown",
   "metadata": {
    "id": "rXuFTAzDIrJe"
   },
   "source": [
    "Then we just need to pass all of this along with our datasets to the `Seq2SeqTrainer`:"
   ]
  },
  {
   "cell_type": "code",
   "execution_count": null,
   "metadata": {
    "id": "imY1oC3SIrJf",
    "scrolled": true
   },
   "outputs": [],
   "source": [
    "batch_size = 32\n",
    "\n",
    "training_args = Seq2SeqTrainingArguments(\n",
    "    model_dir,\n",
    "    eval_strategy=\"epoch\",\n",
    "    logging_strategy=\"epoch\",\n",
    "    learning_rate=2e-5,\n",
    "    per_device_train_batch_size=batch_size,\n",
    "    per_device_eval_batch_size=batch_size,\n",
    "    weight_decay=0.01,\n",
    "    save_total_limit=1,\n",
    "    save_strategy=\"steps\",\n",
    "    num_train_epochs=30,\n",
    "    predict_with_generate=True,\n",
    "    fp16=True,\n",
    "    generation_max_length=max_target_length, \n",
    "    # push_to_hub=True\n",
    ")\n",
    "\n",
    "trainer = Seq2SeqTrainer(\n",
    "    model=model,\n",
    "    args=training_args,\n",
    "    train_dataset=tokenized_datasets[\"train\"],\n",
    "    eval_dataset=tokenized_datasets[\"validation\"],\n",
    "    tokenizer=tokenizer,\n",
    "    data_collator=data_collator,\n",
    "    compute_metrics=compute_metrics,\n",
    ")\n",
    "\n",
    "trainer.train()"
   ]
  },
  {
   "cell_type": "markdown",
   "metadata": {
    "id": "CdzABDVcIrJg"
   },
   "source": [
    "We can now finetune our model by just calling the `train` method:"
   ]
  },
  {
   "cell_type": "markdown",
   "metadata": {
    "id": "ADcv2Y4Q3_BQ"
   },
   "source": [
    "## Model evaluation\n",
    "\n",
    "We load the best checkpoint for the model and evaluate its performance against other similar medical text simplification models."
   ]
  },
  {
   "cell_type": "code",
   "execution_count": null,
   "metadata": {},
   "outputs": [],
   "source": [
    "import os\n",
    "import nltk\n",
    "from transformers import AutoModelForSeq2SeqLM\n",
    "\n",
    "model_name = \"t5-base\"\n",
    "model_dir = f\"{model_name.replace('/', '-')}-super-checkpoints\"\n",
    "\n",
    "# Check if model directory exists and is not empty\n",
    "if os.path.exists(model_dir) and os.listdir(model_dir):\n",
    "    model_checkpoint = os.path.join(model_dir, os.listdir(model_dir)[-1])\n",
    "else:\n",
    "    model_checkpoint = model_name\n",
    "\n",
    "model_t = AutoModelForSeq2SeqLM.from_pretrained(model_checkpoint)"
   ]
  },
  {
   "cell_type": "code",
   "execution_count": null,
   "metadata": {
    "colab": {
     "base_uri": "https://localhost:8080/"
    },
    "id": "AeRtHpVrd4y-",
    "outputId": "b311d2c7-5878-437e-d9b4-b80f8e8b354f"
   },
   "outputs": [],
   "source": [
    "from datasets import load_from_disk\n",
    "from transformers import AutoTokenizer, AutoModelForSeq2SeqLM, DataCollatorForSeq2Seq, Seq2SeqTrainingArguments, Seq2SeqTrainer\n",
    "\n",
    "tokenizer = AutoTokenizer.from_pretrained(model_name)\n",
    "tokenized_datasets = load_from_disk(f'{data_dir}/tokenized_datasets_reduced_en_super') # Load tokenized_datasets from disk\n",
    "\n",
    "test_subset = tokenized_datasets['test'].shuffle().select(range(10))\n",
    "test_sources = [r[original_col] for r in test_subset]\n",
    "test_references = [r[target_col] for r in test_subset]\n",
    "print(f\"Sample Input: {test_sources[0]}\")"
   ]
  },
  {
   "cell_type": "code",
   "execution_count": null,
   "metadata": {},
   "outputs": [],
   "source": [
    "import torch\n",
    "\n",
    "model_device = \"cuda\" if torch.cuda.is_available() else \"cpu\"\n",
    "model_t.to(model_device)\n",
    "\n",
    "\n",
    "tokenized_inputs = tokenizer(test_sources, max_length=max_input_length, truncation=True, padding=True, return_tensors=\"pt\").to(model_device)\n",
    "output = model_t.generate(**tokenized_inputs, num_beams=8, do_sample=True, min_length=0, max_length=max_target_length)\n",
    "\n",
    "prediction = tokenizer.batch_decode(output, skip_special_tokens=True)\n",
    "# prediction = [nltk.sent_tokenize(o.strip())[0] for o in decoded_output]"
   ]
  },
  {
   "cell_type": "code",
   "execution_count": null,
   "metadata": {},
   "outputs": [],
   "source": [
    "import pandas as pd\n",
    "import numpy as np\n",
    "\n",
    "predictions_df = pd.DataFrame(np.array([test_sources, test_references, prediction]).T, columns=['Original sentence', 'Simplified sentence', 'Predicted sentence'])\n",
    "predictions_df.to_csv(f'{results_dir}/predictions-10-{model_name.replace(\"/\", \"-\")}-super.tsv', sep='\\t')"
   ]
  },
  {
   "cell_type": "code",
   "execution_count": null,
   "metadata": {},
   "outputs": [],
   "source": [
    "predictions_df"
   ]
  },
  {
   "cell_type": "code",
   "execution_count": null,
   "metadata": {},
   "outputs": [],
   "source": [
    "from metrics import fk, ari, bleu, rouge, meteor, sari, bertscore\n",
    "\n",
    "# Calculate metrics\n",
    "fk_score = fk(prediction)\n",
    "ari_score = ari(prediction)\n",
    "bleu_score = bleu(test_references, prediction)\n",
    "rouge_score = rouge(test_references, prediction)\n",
    "meteor_score = meteor(test_references, prediction)\n",
    "sari_score = sari(test_sources, test_references, prediction)\n",
    "bertscore_score = bertscore(test_references, prediction)\n",
    "\n",
    "print(\"FK index:\", fk_score)\n",
    "print(\"ARI index:\", ari_score)\n",
    "print(\"BLEU Score:\", bleu_score)\n",
    "print(\"ROUGE Score:\", rouge_score)\n",
    "print(\"METEOR Score:\", meteor_score)\n",
    "print(\"SARI Score:\", sari_score)\n",
    "print(\"BERTScore:\", bertscore_score)\n",
    "\n",
    "# NOTE: There can be minor variance in results every time the evaluation is run, a mean of many samples is recommeded."
   ]
  },
  {
   "cell_type": "markdown",
   "metadata": {
    "id": "q6Bhq8wl2c0f"
   },
   "source": [
    "|                          | Readability |       | Lexical  |        |         |       | Simplification | Semantic  |\n",
    "|--------------------------|:-----------:|:-----:|:--------:|:------:|:-------:|:-----:|:--------------:|:---------:|\n",
    "| Models                   | FK          | ARI   | Rouge1   | Rouge2 | Rouge-L | BLEU  | SARI           | BertScore |\n",
    "| UL-BART (Devraj et al.)  | 11.97       | 13.73 | 38.00    | 14.00  | 36.00   | 39.0  | 40.00          | N/A       |\n",
    "| NapSS (Lu et al.)        | 10.97       | 14.27 | 48.05    | 19.94  | 44.76   | 12.3  | 40.37          | 25.73     |\n",
    "| T5-base-simplified (ours) | 11.09       | 13.76 | **58.66**    | **33.75**  | **45.47**   | **27.7**  | **52.13**          | **74.83**     |\n",
    "| T5-base-extra-simplified (ours) | **10.01**       | **12.1** | 31.68    | 10.68  | 22.66   | 7.59  | 43.58          | 63.51     |"
   ]
  },
  {
   "cell_type": "markdown",
   "metadata": {
    "jp-MarkdownHeadingCollapsed": true
   },
   "source": [
    "## The End\n",
    "Thank you!!"
   ]
  }
 ],
 "metadata": {
  "accelerator": "GPU",
  "colab": {
   "gpuType": "T4",
   "provenance": []
  },
  "kernelspec": {
   "display_name": "Python 3 (ipykernel)",
   "language": "python",
   "name": "python3"
  },
  "language_info": {
   "codemirror_mode": {
    "name": "ipython",
    "version": 3
   },
   "file_extension": ".py",
   "mimetype": "text/x-python",
   "name": "python",
   "nbconvert_exporter": "python",
   "pygments_lexer": "ipython3",
   "version": "3.11.6"
  },
  "widgets": {
   "application/vnd.jupyter.widget-state+json": {
    "state": {},
    "version_major": 2,
    "version_minor": 0
   }
  }
 },
 "nbformat": 4,
 "nbformat_minor": 4
}
